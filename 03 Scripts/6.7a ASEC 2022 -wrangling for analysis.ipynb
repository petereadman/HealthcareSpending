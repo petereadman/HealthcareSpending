{
 "cells": [
  {
   "cell_type": "markdown",
   "id": "04f4a5e6",
   "metadata": {},
   "source": [
    "# Import libraries and data"
   ]
  },
  {
   "cell_type": "code",
   "execution_count": 1,
   "id": "64f795bd",
   "metadata": {},
   "outputs": [],
   "source": [
    "# import libraries\n",
    "\n",
    "import pandas as pd\n",
    "import numpy as np\n",
    "import seaborn as sns\n",
    "import matplotlib.pyplot as plt\n",
    "import matplotlib\n",
    "import os\n",
    "# Plot style\n",
    "plt.style.use('fivethirtyeight')"
   ]
  },
  {
   "cell_type": "code",
   "execution_count": 2,
   "id": "f992bfdf",
   "metadata": {},
   "outputs": [
    {
     "data": {
      "text/plain": [
       "'3.5.2'"
      ]
     },
     "execution_count": 2,
     "metadata": {},
     "output_type": "execute_result"
    }
   ],
   "source": [
    "# Check matplotlib version\n",
    "matplotlib.__version__"
   ]
  },
  {
   "cell_type": "code",
   "execution_count": 3,
   "id": "07cbd22d",
   "metadata": {},
   "outputs": [],
   "source": [
    "# This option ensures the charts created are displayed in the notebook without the need to \"call\" them specifically.\n",
    "%matplotlib inline"
   ]
  },
  {
   "cell_type": "code",
   "execution_count": 4,
   "id": "a68fe6d0",
   "metadata": {},
   "outputs": [],
   "source": [
    "# Turn project folder path into a string\n",
    "path = r'/Users/peterreadman/Desktop/Python Projects/PortfolioProjects/HealthcareSpending/'"
   ]
  },
  {
   "cell_type": "code",
   "execution_count": 5,
   "id": "13e2ad98",
   "metadata": {},
   "outputs": [],
   "source": [
    "# import person data\n",
    "\n",
    "df_p_orig = pd.read_csv(os.path.join(path,'02 Data','02a Original Data', 'ASEC_2022', 'pppub22.csv'))"
   ]
  },
  {
   "cell_type": "code",
   "execution_count": 6,
   "id": "3e503195",
   "metadata": {},
   "outputs": [
    {
     "data": {
      "text/plain": [
       "(152732, 832)"
      ]
     },
     "execution_count": 6,
     "metadata": {},
     "output_type": "execute_result"
    }
   ],
   "source": [
    "df_p_orig.shape"
   ]
  },
  {
   "cell_type": "markdown",
   "id": "b39a08e3",
   "metadata": {},
   "source": [
    "# Exploratory Data Analysis\n",
    "## i) Out-of-pocket medical expenses by gender (m/f)"
   ]
  },
  {
   "cell_type": "markdown",
   "id": "e89c3eb2",
   "metadata": {},
   "source": [
    "### Reduce columns to those useful for exploration, include:\n",
    "- age\n",
    "- sex (m/f)\n",
    "- Total out-of-pocket med expenses\n",
    "- self-employment income\n",
    "- wages/salary income"
   ]
  },
  {
   "cell_type": "code",
   "execution_count": 7,
   "id": "545f75b3",
   "metadata": {
    "scrolled": false
   },
   "outputs": [
    {
     "data": {
      "text/html": [
       "<div>\n",
       "<style scoped>\n",
       "    .dataframe tbody tr th:only-of-type {\n",
       "        vertical-align: middle;\n",
       "    }\n",
       "\n",
       "    .dataframe tbody tr th {\n",
       "        vertical-align: top;\n",
       "    }\n",
       "\n",
       "    .dataframe thead th {\n",
       "        text-align: right;\n",
       "    }\n",
       "</style>\n",
       "<table border=\"1\" class=\"dataframe\">\n",
       "  <thead>\n",
       "    <tr style=\"text-align: right;\">\n",
       "      <th></th>\n",
       "      <th>Person_ID</th>\n",
       "      <th>Age</th>\n",
       "      <th>Sex</th>\n",
       "      <th>Emp</th>\n",
       "      <th>Emp_Type</th>\n",
       "      <th>Emp_Type_recode</th>\n",
       "      <th>Retirement_Ann</th>\n",
       "      <th>Retirement_Dist</th>\n",
       "      <th>Earnings_Net</th>\n",
       "      <th>SE_FARM_2nd</th>\n",
       "      <th>...</th>\n",
       "      <th>Medicare_Premium</th>\n",
       "      <th>Ins_Premium</th>\n",
       "      <th>Ins_Premium_2</th>\n",
       "      <th>Non_Premium_OutOfPocket</th>\n",
       "      <th>OverTheCounter_Exp</th>\n",
       "      <th>Tot_Per_Income</th>\n",
       "      <th>SE_Tot</th>\n",
       "      <th>SE_2nd</th>\n",
       "      <th>Wages_Tot</th>\n",
       "      <th>Wages_Other</th>\n",
       "    </tr>\n",
       "  </thead>\n",
       "  <tbody>\n",
       "    <tr>\n",
       "      <th>0</th>\n",
       "      <td>2022093493100051201101</td>\n",
       "      <td>42</td>\n",
       "      <td>1</td>\n",
       "      <td>1</td>\n",
       "      <td>1</td>\n",
       "      <td>4</td>\n",
       "      <td>0</td>\n",
       "      <td>0</td>\n",
       "      <td>44200</td>\n",
       "      <td>0</td>\n",
       "      <td>...</td>\n",
       "      <td>0</td>\n",
       "      <td>3840</td>\n",
       "      <td>3840</td>\n",
       "      <td>0</td>\n",
       "      <td>0</td>\n",
       "      <td>44220</td>\n",
       "      <td>0</td>\n",
       "      <td>0</td>\n",
       "      <td>44200</td>\n",
       "      <td>0</td>\n",
       "    </tr>\n",
       "    <tr>\n",
       "      <th>1</th>\n",
       "      <td>2100059324402431401101</td>\n",
       "      <td>62</td>\n",
       "      <td>1</td>\n",
       "      <td>1</td>\n",
       "      <td>6</td>\n",
       "      <td>5</td>\n",
       "      <td>0</td>\n",
       "      <td>0</td>\n",
       "      <td>30000</td>\n",
       "      <td>2500</td>\n",
       "      <td>...</td>\n",
       "      <td>0</td>\n",
       "      <td>200</td>\n",
       "      <td>200</td>\n",
       "      <td>320</td>\n",
       "      <td>48</td>\n",
       "      <td>32702</td>\n",
       "      <td>30100</td>\n",
       "      <td>100</td>\n",
       "      <td>0</td>\n",
       "      <td>0</td>\n",
       "    </tr>\n",
       "    <tr>\n",
       "      <th>2</th>\n",
       "      <td>2100059324402431401102</td>\n",
       "      <td>64</td>\n",
       "      <td>2</td>\n",
       "      <td>2</td>\n",
       "      <td>3</td>\n",
       "      <td>2</td>\n",
       "      <td>0</td>\n",
       "      <td>0</td>\n",
       "      <td>48000</td>\n",
       "      <td>0</td>\n",
       "      <td>...</td>\n",
       "      <td>0</td>\n",
       "      <td>1200</td>\n",
       "      <td>1200</td>\n",
       "      <td>0</td>\n",
       "      <td>100</td>\n",
       "      <td>50050</td>\n",
       "      <td>0</td>\n",
       "      <td>0</td>\n",
       "      <td>48000</td>\n",
       "      <td>0</td>\n",
       "    </tr>\n",
       "    <tr>\n",
       "      <th>3</th>\n",
       "      <td>1410320300869091411101</td>\n",
       "      <td>26</td>\n",
       "      <td>1</td>\n",
       "      <td>1</td>\n",
       "      <td>1</td>\n",
       "      <td>4</td>\n",
       "      <td>0</td>\n",
       "      <td>0</td>\n",
       "      <td>40000</td>\n",
       "      <td>0</td>\n",
       "      <td>...</td>\n",
       "      <td>0</td>\n",
       "      <td>0</td>\n",
       "      <td>0</td>\n",
       "      <td>0</td>\n",
       "      <td>100</td>\n",
       "      <td>40001</td>\n",
       "      <td>0</td>\n",
       "      <td>0</td>\n",
       "      <td>40000</td>\n",
       "      <td>0</td>\n",
       "    </tr>\n",
       "    <tr>\n",
       "      <th>4</th>\n",
       "      <td>1410320300869091411102</td>\n",
       "      <td>24</td>\n",
       "      <td>2</td>\n",
       "      <td>2</td>\n",
       "      <td>1</td>\n",
       "      <td>4</td>\n",
       "      <td>0</td>\n",
       "      <td>0</td>\n",
       "      <td>20000</td>\n",
       "      <td>0</td>\n",
       "      <td>...</td>\n",
       "      <td>0</td>\n",
       "      <td>1000</td>\n",
       "      <td>1000</td>\n",
       "      <td>300</td>\n",
       "      <td>100</td>\n",
       "      <td>20000</td>\n",
       "      <td>0</td>\n",
       "      <td>0</td>\n",
       "      <td>20000</td>\n",
       "      <td>0</td>\n",
       "    </tr>\n",
       "  </tbody>\n",
       "</table>\n",
       "<p>5 rows × 23 columns</p>\n",
       "</div>"
      ],
      "text/plain": [
       "                Person_ID  Age  Sex  Emp  Emp_Type  Emp_Type_recode  \\\n",
       "0  2022093493100051201101   42    1    1         1                4   \n",
       "1  2100059324402431401101   62    1    1         6                5   \n",
       "2  2100059324402431401102   64    2    2         3                2   \n",
       "3  1410320300869091411101   26    1    1         1                4   \n",
       "4  1410320300869091411102   24    2    2         1                4   \n",
       "\n",
       "   Retirement_Ann  Retirement_Dist  Earnings_Net  SE_FARM_2nd  ...  \\\n",
       "0               0                0         44200            0  ...   \n",
       "1               0                0         30000         2500  ...   \n",
       "2               0                0         48000            0  ...   \n",
       "3               0                0         40000            0  ...   \n",
       "4               0                0         20000            0  ...   \n",
       "\n",
       "   Medicare_Premium  Ins_Premium  Ins_Premium_2  Non_Premium_OutOfPocket  \\\n",
       "0                 0         3840           3840                        0   \n",
       "1                 0          200            200                      320   \n",
       "2                 0         1200           1200                        0   \n",
       "3                 0            0              0                        0   \n",
       "4                 0         1000           1000                      300   \n",
       "\n",
       "   OverTheCounter_Exp  Tot_Per_Income  SE_Tot  SE_2nd  Wages_Tot  Wages_Other  \n",
       "0                   0           44220       0       0      44200            0  \n",
       "1                  48           32702   30100     100          0            0  \n",
       "2                 100           50050       0       0      48000            0  \n",
       "3                 100           40001       0       0      40000            0  \n",
       "4                 100           20000       0       0      20000            0  \n",
       "\n",
       "[5 rows x 23 columns]"
      ]
     },
     "execution_count": 7,
     "metadata": {},
     "output_type": "execute_result"
    }
   ],
   "source": [
    "# Define the renaming code in a list\n",
    "column_renaming = [\n",
    "    ('PERIDNUM', 'Person_ID'),\n",
    "    ('A_AGE', 'Age'),\n",
    "    ('A_SEX', 'Sex'),\n",
    "    ('PEMLR', 'Emp'),\n",
    "    ('A_CLSWKR', 'Emp_Type'),\n",
    "    ('PRCOW1', 'Emp_Type_recode'),\n",
    "    ('ANN_VAL', 'Retirement_Ann'),\n",
    "    ('DBTN_VAL', 'Retirement_Dist'),\n",
    "    ('ERN_VAL', 'Earnings_Net'),\n",
    "    ('FRM_VAL', 'SE_FARM_2nd'),\n",
    "    ('FRSE_VAL', 'SE_FARM_Tot'),\n",
    "    ('MOOP', 'Total_OutOfPocket_Med_Exp'),\n",
    "    ('MOOP2', 'Total_OutOfPocket_Med_Exp_2'),\n",
    "    ('PEMCPREM', 'Medicare_Premium'),\n",
    "    ('PHIP_VAL', 'Ins_Premium'),\n",
    "    ('PHIP_VAL2', 'Ins_Premium_2'),\n",
    "    ('PMED_VAL', 'Non_Premium_OutOfPocket'),\n",
    "    ('POTC_VAL', 'OverTheCounter_Exp'),\n",
    "    ('PTOTVAL', 'Tot_Per_Income'),\n",
    "    ('SEMP_VAL', 'SE_Tot'),\n",
    "    ('SE_VAL', 'SE_2nd'),\n",
    "    ('WSAL_VAL', 'Wages_Tot'),\n",
    "    ('WS_VAL', 'Wages_Other')\n",
    "]\n",
    "\n",
    "# Extract the renamed columns into a new dataframe 'df_p'\n",
    "df_p = pd.DataFrame()\n",
    "\n",
    "for current_name, new_name in column_renaming:\n",
    "    df_p[new_name] = df_p_orig[current_name]\n",
    "\n",
    "# Print the new dataframe 'df_p'\n",
    "df_p.head()"
   ]
  },
  {
   "cell_type": "markdown",
   "id": "f54a2482",
   "metadata": {},
   "source": [
    "### Calculate summary stats for total out-of-pocket expenses by sex (m/f)"
   ]
  },
  {
   "cell_type": "code",
   "execution_count": 8,
   "id": "8f30a82e",
   "metadata": {},
   "outputs": [],
   "source": [
    "# Change 'Sex' values to m/f\n",
    "df_p['Sex'] = df_p['Sex'].replace({1: 'm', 2: 'f'})"
   ]
  },
  {
   "cell_type": "code",
   "execution_count": 9,
   "id": "1716d235",
   "metadata": {},
   "outputs": [
    {
     "name": "stdout",
     "output_type": "stream",
     "text": [
      "Sex\n",
      "f    134646453\n",
      "m    137138184\n",
      "Name: Total_OutOfPocket_Med_Exp, dtype: int64\n"
     ]
    }
   ],
   "source": [
    "# Total_OutOfPocket_Med_Exp by sex (m/f) \n",
    "\n",
    "total_exp_by_sex = df_p.groupby('Sex')['Total_OutOfPocket_Med_Exp'].sum()\n",
    "print(total_exp_by_sex)"
   ]
  },
  {
   "cell_type": "code",
   "execution_count": 10,
   "id": "829d53e2",
   "metadata": {
    "scrolled": false
   },
   "outputs": [
    {
     "data": {
      "image/png": "[encoded data removed]",
      "text/plain": [
       "<Figure size 640x480 with 1 Axes>"
      ]
     },
     "metadata": {},
     "output_type": "display_data"
    }
   ],
   "source": [
    "# Assuming you have the result stored in the 'total_exp_by_sex' variable\n",
    "total_exp_by_sex.plot(kind='bar')\n",
    "\n",
    "# Customize the chart\n",
    "plt.xlabel('Sex')\n",
    "plt.ylabel('Total Out-of-Pocket Medical Expenses')\n",
    "plt.title('Total Expenses by Sex')\n",
    "\n",
    "# Display the chart\n",
    "plt.show()"
   ]
  },
  {
   "cell_type": "code",
   "execution_count": 11,
   "id": "545d209b",
   "metadata": {
    "scrolled": true
   },
   "outputs": [
    {
     "name": "stdout",
     "output_type": "stream",
     "text": [
      "Sex\n",
      "f    134646453\n",
      "m    137138184\n",
      "Name: Total_OutOfPocket_Med_Exp, dtype: int64\n"
     ]
    }
   ],
   "source": [
    "# Total_OutOfPocket_Med_Exp by self-employed vs wages/salary\n",
    "\n",
    "total_exp_by_employment = df_p.groupby('Sex')['Total_OutOfPocket_Med_Exp'].sum()\n",
    "print(total_exp_by_sex)"
   ]
  },
  {
   "cell_type": "markdown",
   "id": "6b9a4873",
   "metadata": {},
   "source": [
    "## What percentage of annual income are persons spending on out-of-pocket costs?"
   ]
  },
  {
   "cell_type": "code",
   "execution_count": 12,
   "id": "a578a798",
   "metadata": {},
   "outputs": [],
   "source": [
    "# Remove rows with Tot_Per_Income == 0 to avoid infinity restults later on\n",
    "df_p = df_p[df_p['Tot_Per_Income'] != 0]"
   ]
  },
  {
   "cell_type": "code",
   "execution_count": 13,
   "id": "a4897eec",
   "metadata": {},
   "outputs": [],
   "source": [
    "# Create the 'perc_inc_oup' column\n",
    "df_p.loc[:, 'perc_inc_oup'] = (df_p['Total_OutOfPocket_Med_Exp'] / df_p['Tot_Per_Income']) * 100"
   ]
  },
  {
   "cell_type": "code",
   "execution_count": 14,
   "id": "cd5fb0b0",
   "metadata": {
    "scrolled": true
   },
   "outputs": [
    {
     "data": {
      "text/plain": [
       "0    8.683853\n",
       "1    1.736897\n",
       "2    2.597403\n",
       "3    0.249994\n",
       "4    7.000000\n",
       "Name: perc_inc_oup, dtype: float64"
      ]
     },
     "execution_count": 14,
     "metadata": {},
     "output_type": "execute_result"
    }
   ],
   "source": [
    "df_p['perc_inc_oup'].head()"
   ]
  },
  {
   "cell_type": "code",
   "execution_count": 15,
   "id": "eae62c2b",
   "metadata": {
    "scrolled": true
   },
   "outputs": [
    {
     "data": {
      "text/plain": [
       "count    1.066430e+05\n",
       "mean     1.475627e+03\n",
       "std      3.256235e+04\n",
       "min     -4.750000e+05\n",
       "25%      4.816212e-01\n",
       "50%      2.449060e+00\n",
       "75%      7.812500e+00\n",
       "max      6.015000e+06\n",
       "Name: perc_inc_oup, dtype: float64"
      ]
     },
     "execution_count": 15,
     "metadata": {},
     "output_type": "execute_result"
    }
   ],
   "source": [
    "# summary stats\n",
    "df_p['perc_inc_oup'].describe()"
   ]
  },
  {
   "cell_type": "markdown",
   "id": "cce0a9a1",
   "metadata": {},
   "source": [
    "#### How many persons' out-of-pocket expenses exceeded their annual income?"
   ]
  },
  {
   "cell_type": "code",
   "execution_count": 16,
   "id": "3d01b63f",
   "metadata": {},
   "outputs": [
    {
     "data": {
      "text/plain": [
       "4078"
      ]
     },
     "execution_count": 16,
     "metadata": {},
     "output_type": "execute_result"
    }
   ],
   "source": [
    "# Count of rows where 'Total_OutOfPocket_Med_Exp' > 'Tot_Per_Earn'\n",
    "(df_p['Total_OutOfPocket_Med_Exp'] > df_p['Tot_Per_Income']).sum()"
   ]
  },
  {
   "cell_type": "code",
   "execution_count": 17,
   "id": "2af06531",
   "metadata": {},
   "outputs": [
    {
     "data": {
      "text/plain": [
       "(106643, 24)"
      ]
     },
     "execution_count": 17,
     "metadata": {},
     "output_type": "execute_result"
    }
   ],
   "source": [
    "df_p.shape"
   ]
  },
  {
   "cell_type": "code",
   "execution_count": 18,
   "id": "404734fe",
   "metadata": {},
   "outputs": [],
   "source": [
    "num_rows = 106643"
   ]
  },
  {
   "cell_type": "code",
   "execution_count": 19,
   "id": "e5711bc1",
   "metadata": {},
   "outputs": [
    {
     "data": {
      "text/plain": [
       "3.8239734441079114"
      ]
     },
     "execution_count": 19,
     "metadata": {},
     "output_type": "execute_result"
    }
   ],
   "source": [
    "(4078/num_rows) * 100"
   ]
  },
  {
   "cell_type": "markdown",
   "id": "b8db1c92",
   "metadata": {},
   "source": [
    "### Observation\n",
    "#### 3.83% of persons with annual income > 0 had out-of-pocket med expenses greater than their annual income"
   ]
  },
  {
   "cell_type": "markdown",
   "id": "f508fdda",
   "metadata": {},
   "source": [
    "## Explore Employment type (private, self-employed, government, etc) and out-of-pocket costs"
   ]
  },
  {
   "cell_type": "code",
   "execution_count": 20,
   "id": "e7d27281",
   "metadata": {},
   "outputs": [],
   "source": [
    "# Translate ASEC data dictionary for Employment type codes\n",
    "\n",
    "# Define the dictionary to map numerical values to text codes\n",
    "\n",
    "emp_type_mapping = {\n",
    "    0: 'niu',\n",
    "    1: 'private',\n",
    "    2: 'gov_fed',\n",
    "    3: 'gov_state',\n",
    "    4: 'gov_loc',\n",
    "    5: 'SE_inc',\n",
    "    6: 'SE',\n",
    "    7: 'no_pay',\n",
    "    8: 'never_worked'\n",
    "}\n",
    "\n",
    "# Replace the numerical values with text codes in 'Emp_Type' column\n",
    "df_p['Emp_Type'] = df_p['Emp_Type'].replace(emp_type_mapping)"
   ]
  },
  {
   "cell_type": "code",
   "execution_count": 21,
   "id": "79dacdf3",
   "metadata": {
    "scrolled": false
   },
   "outputs": [
    {
     "data": {
      "text/plain": [
       "private         54621\n",
       "niu             33807\n",
       "SE               4691\n",
       "gov_loc          4691\n",
       "gov_state        3714\n",
       "SE_inc           2874\n",
       "gov_fed          2153\n",
       "never_worked       66\n",
       "no_pay             26\n",
       "Name: Emp_Type, dtype: int64"
      ]
     },
     "execution_count": 21,
     "metadata": {},
     "output_type": "execute_result"
    }
   ],
   "source": [
    "df_p['Emp_Type'].value_counts()"
   ]
  },
  {
   "cell_type": "markdown",
   "id": "882c6b1d",
   "metadata": {},
   "source": [
    "#### Note that 'niu' (Not In Universe) refers to Not in universe or children and Armed Forces\n",
    "- I am surprised such a large proportion of the ASEC data are not in universe"
   ]
  },
  {
   "cell_type": "code",
   "execution_count": 22,
   "id": "d68173f0",
   "metadata": {},
   "outputs": [],
   "source": [
    "# Translate ASEC data dictionary for Employment type 'recode' codes\n",
    "\n",
    "# Define the dictionary to map numerical values to text codes\n",
    "\n",
    "emp_type_recode_mapping = {\n",
    "    0: 'niu',\n",
    "    1: 'gov_fed',\n",
    "    2: 'gov_state',\n",
    "    3: 'gov_loc',\n",
    "    4: 'private',\n",
    "    5: 'SE',\n",
    "    6: 'no_pay'\n",
    "}\n",
    "\n",
    "# Replace the numerical values with text codes in 'Emp_Type' column\n",
    "df_p['Emp_Type_recode'] = df_p['Emp_Type_recode'].replace(emp_type_recode_mapping)"
   ]
  },
  {
   "cell_type": "code",
   "execution_count": 23,
   "id": "ef3f7cd0",
   "metadata": {},
   "outputs": [
    {
     "data": {
      "text/plain": [
       "private      57495\n",
       "niu          33873\n",
       "SE            4691\n",
       "gov_loc       4691\n",
       "gov_state     3714\n",
       "gov_fed       2153\n",
       "no_pay          26\n",
       "Name: Emp_Type_recode, dtype: int64"
      ]
     },
     "execution_count": 23,
     "metadata": {},
     "output_type": "execute_result"
    }
   ],
   "source": [
    "df_p['Emp_Type_recode'].value_counts()"
   ]
  },
  {
   "cell_type": "markdown",
   "id": "b99cb0d2",
   "metadata": {},
   "source": [
    "#### OK this looks more useful"
   ]
  },
  {
   "cell_type": "markdown",
   "id": "9110eab7",
   "metadata": {},
   "source": [
    "### Get value counts for overall employment status"
   ]
  },
  {
   "cell_type": "code",
   "execution_count": 24,
   "id": "b94f19b1",
   "metadata": {},
   "outputs": [],
   "source": [
    "# PEMLR is Employment recode (Emp)\n",
    "# Dictionary:\n",
    "\n",
    "# Translate ASEC data dictionary for Employment recode codes\n",
    "\n",
    "# Define the dictionary to map numerical values to text codes\n",
    "\n",
    "emp_mapping = {\n",
    "    0: 'niu',\n",
    "    1: 'Emp_at_work',\n",
    "    2: 'Emp_absent',\n",
    "    3: 'Unemp_layoff',\n",
    "    4: 'Unemp_looking',\n",
    "    5: 'NotWorking_retired',\n",
    "    6: 'NotWorking_disabled',\n",
    "    7: 'NotWorking_other'\n",
    "}\n",
    "\n",
    "# Replace the numerical values with text codes in 'Emp' column\n",
    "df_p['Emp'] = df_p['Emp'].replace(emp_mapping)"
   ]
  },
  {
   "cell_type": "code",
   "execution_count": 25,
   "id": "3a7f8b10",
   "metadata": {
    "scrolled": false
   },
   "outputs": [
    {
     "data": {
      "text/plain": [
       "Emp_at_work            67877\n",
       "NotWorking_retired     21029\n",
       "NotWorking_other        8261\n",
       "NotWorking_disabled     4714\n",
       "Emp_absent              2130\n",
       "Unemp_looking           1755\n",
       "niu                      491\n",
       "Unemp_layoff             386\n",
       "Name: Emp, dtype: int64"
      ]
     },
     "execution_count": 25,
     "metadata": {},
     "output_type": "execute_result"
    }
   ],
   "source": [
    "df_p['Emp'].value_counts()"
   ]
  },
  {
   "cell_type": "markdown",
   "id": "92407a16",
   "metadata": {},
   "source": [
    "### Work with the 'Emp_Type_recode' column"
   ]
  },
  {
   "cell_type": "code",
   "execution_count": 26,
   "id": "d2138935",
   "metadata": {
    "scrolled": true
   },
   "outputs": [
    {
     "data": {
      "text/plain": [
       "Emp_at_work            67877\n",
       "NotWorking_retired     21029\n",
       "NotWorking_other        8261\n",
       "NotWorking_disabled     4714\n",
       "Emp_absent              2130\n",
       "Unemp_looking           1755\n",
       "Unemp_layoff             386\n",
       "Name: Emp, dtype: int64"
      ]
     },
     "execution_count": 26,
     "metadata": {},
     "output_type": "execute_result"
    }
   ],
   "source": [
    "# Create a new df without the 'niu' rows\n",
    "\n",
    "df_emp = df_p[df_p['Emp'] != 'niu'].copy()\n",
    "\n",
    "# value counts for 'Employment'\n",
    "df_emp['Emp'].value_counts()"
   ]
  },
  {
   "cell_type": "code",
   "execution_count": 27,
   "id": "f45e965b",
   "metadata": {
    "scrolled": false
   },
   "outputs": [
    {
     "data": {
      "text/plain": [
       "Index(['Person_ID', 'Age', 'Sex', 'Emp', 'Emp_Type', 'Emp_Type_recode',\n",
       "       'Retirement_Ann', 'Retirement_Dist', 'Earnings_Net', 'SE_FARM_2nd',\n",
       "       'SE_FARM_Tot', 'Total_OutOfPocket_Med_Exp',\n",
       "       'Total_OutOfPocket_Med_Exp_2', 'Medicare_Premium', 'Ins_Premium',\n",
       "       'Ins_Premium_2', 'Non_Premium_OutOfPocket', 'OverTheCounter_Exp',\n",
       "       'Tot_Per_Income', 'SE_Tot', 'SE_2nd', 'Wages_Tot', 'Wages_Other',\n",
       "       'perc_inc_oup'],\n",
       "      dtype='object')"
      ]
     },
     "execution_count": 27,
     "metadata": {},
     "output_type": "execute_result"
    }
   ],
   "source": [
    "df_emp.columns"
   ]
  },
  {
   "cell_type": "code",
   "execution_count": 28,
   "id": "89eab531",
   "metadata": {
    "scrolled": true
   },
   "outputs": [
    {
     "name": "stdout",
     "output_type": "stream",
     "text": [
      "                     Max_Total_OutOfPocket_Med_Exp  \\\n",
      "Emp                                                  \n",
      "Emp_absent                                   84250   \n",
      "Emp_at_work                                 240050   \n",
      "NotWorking_disabled                          50250   \n",
      "NotWorking_other                             75500   \n",
      "NotWorking_retired                          240437   \n",
      "Unemp_layoff                                 18600   \n",
      "Unemp_looking                                36000   \n",
      "\n",
      "                     Min_Total_OutOfPocket_Med_Exp  \\\n",
      "Emp                                                  \n",
      "Emp_absent                                       0   \n",
      "Emp_at_work                                      0   \n",
      "NotWorking_disabled                              0   \n",
      "NotWorking_other                                 0   \n",
      "NotWorking_retired                               0   \n",
      "Unemp_layoff                                     0   \n",
      "Unemp_looking                                    0   \n",
      "\n",
      "                     Mean_Total_OutOfPocket_Med_Exp  Max_perc_inc_oup  \\\n",
      "Emp                                                                     \n",
      "Emp_absent                              2722.488263      4.020000e+05   \n",
      "Emp_at_work                             2619.268530      1.350000e+06   \n",
      "NotWorking_disabled                     1239.554943      2.530000e+06   \n",
      "NotWorking_other                        1279.855465      6.015000e+06   \n",
      "NotWorking_retired                      2242.675258      2.050000e+06   \n",
      "Unemp_layoff                            1550.064767      4.800000e+04   \n",
      "Unemp_looking                           1482.623932      8.833333e+05   \n",
      "\n",
      "                     Min_perc_inc_oup  Mean_perc_inc_oup  \n",
      "Emp                                                       \n",
      "Emp_absent                -700.000000         406.707381  \n",
      "Emp_at_work            -475000.000000         189.804104  \n",
      "NotWorking_disabled       -276.600000        2133.293417  \n",
      "NotWorking_other          -285.714286       11726.045089  \n",
      "NotWorking_retired        -121.515368        1582.583157  \n",
      "Unemp_layoff                -0.500050         168.600262  \n",
      "Unemp_looking                0.000000        1896.343435  \n"
     ]
    }
   ],
   "source": [
    "# Calculate the aggregates separately\n",
    "max_tot_oup = df_emp.groupby('Emp')['Total_OutOfPocket_Med_Exp'].max()\n",
    "min_tot_oup = df_emp.groupby('Emp')['Total_OutOfPocket_Med_Exp'].min()\n",
    "mean_tot_oup = df_emp.groupby('Emp')['Total_OutOfPocket_Med_Exp'].mean()\n",
    "\n",
    "max_perc_inc = df_emp.groupby('Emp')['perc_inc_oup'].max()\n",
    "min_perc_inc = df_emp.groupby('Emp')['perc_inc_oup'].min()\n",
    "mean_perc_inc = df_emp.groupby('Emp')['perc_inc_oup'].mean()\n",
    "\n",
    "# Create a DataFrame from the aggregates\n",
    "aggregates = pd.DataFrame({\n",
    "    'Max_Total_OutOfPocket_Med_Exp': max_tot_oup,\n",
    "    'Min_Total_OutOfPocket_Med_Exp': min_tot_oup,\n",
    "    'Mean_Total_OutOfPocket_Med_Exp': mean_tot_oup,\n",
    "    'Max_perc_inc_oup': max_perc_inc,\n",
    "    'Min_perc_inc_oup': min_perc_inc,\n",
    "    'Mean_perc_inc_oup': mean_perc_inc\n",
    "})\n",
    "\n",
    "# Display the aggregates table\n",
    "print(aggregates)"
   ]
  },
  {
   "cell_type": "markdown",
   "id": "851044e3",
   "metadata": {},
   "source": [
    "# Match Person with Household for Geography"
   ]
  },
  {
   "cell_type": "markdown",
   "id": "8dd59063",
   "metadata": {},
   "source": [
    "#### ID'ing Persons within a Household\n",
    "To uniquely identify persons within a household\n",
    "- use PH_SEQ and PPPOS on the person file\n",
    "- Match PH_SEQ to H_SEQ on the household file, to link the persons to the household\n",
    "- PPPOS is the person id within each household\n",
    "\n",
    "For example, match PH_SEQ = 12345 to H_SEQ = 12345, and then use PPPOS, which will have values of\n",
    "01, 02, ...16, to identify each person."
   ]
  },
  {
   "cell_type": "code",
   "execution_count": 29,
   "id": "a2d276ad",
   "metadata": {},
   "outputs": [],
   "source": [
    "# import person data\n",
    "\n",
    "df_h_orig = pd.read_csv(os.path.join(path,'02 Data','02a Original Data', 'ASEC_2022', 'hhpub22.csv'))"
   ]
  },
  {
   "cell_type": "code",
   "execution_count": 30,
   "id": "a63aa595",
   "metadata": {
    "scrolled": true
   },
   "outputs": [
    {
     "data": {
      "text/plain": [
       "(89197, 144)"
      ]
     },
     "execution_count": 30,
     "metadata": {},
     "output_type": "execute_result"
    }
   ],
   "source": [
    "df_h_orig.shape"
   ]
  },
  {
   "cell_type": "code",
   "execution_count": 31,
   "id": "4bb5670a",
   "metadata": {},
   "outputs": [
    {
     "data": {
      "text/html": [
       "<div>\n",
       "<style scoped>\n",
       "    .dataframe tbody tr th:only-of-type {\n",
       "        vertical-align: middle;\n",
       "    }\n",
       "\n",
       "    .dataframe tbody tr th {\n",
       "        vertical-align: top;\n",
       "    }\n",
       "\n",
       "    .dataframe thead th {\n",
       "        text-align: right;\n",
       "    }\n",
       "</style>\n",
       "<table border=\"1\" class=\"dataframe\">\n",
       "  <thead>\n",
       "    <tr style=\"text-align: right;\">\n",
       "      <th></th>\n",
       "      <th>PH_SEQ</th>\n",
       "      <th>PPPOS</th>\n",
       "    </tr>\n",
       "  </thead>\n",
       "  <tbody>\n",
       "    <tr>\n",
       "      <th>0</th>\n",
       "      <td>1</td>\n",
       "      <td>41</td>\n",
       "    </tr>\n",
       "    <tr>\n",
       "      <th>1</th>\n",
       "      <td>5</td>\n",
       "      <td>41</td>\n",
       "    </tr>\n",
       "    <tr>\n",
       "      <th>2</th>\n",
       "      <td>5</td>\n",
       "      <td>42</td>\n",
       "    </tr>\n",
       "    <tr>\n",
       "      <th>3</th>\n",
       "      <td>6</td>\n",
       "      <td>41</td>\n",
       "    </tr>\n",
       "    <tr>\n",
       "      <th>4</th>\n",
       "      <td>6</td>\n",
       "      <td>42</td>\n",
       "    </tr>\n",
       "  </tbody>\n",
       "</table>\n",
       "</div>"
      ],
      "text/plain": [
       "   PH_SEQ  PPPOS\n",
       "0       1     41\n",
       "1       5     41\n",
       "2       5     42\n",
       "3       6     41\n",
       "4       6     42"
      ]
     },
     "execution_count": 31,
     "metadata": {},
     "output_type": "execute_result"
    }
   ],
   "source": [
    "df_p_orig[['PH_SEQ','PPPOS']].head()"
   ]
  },
  {
   "cell_type": "code",
   "execution_count": 32,
   "id": "b1831938",
   "metadata": {
    "scrolled": false
   },
   "outputs": [
    {
     "data": {
      "text/plain": [
       "0      1\n",
       "1      2\n",
       "2      3\n",
       "3      4\n",
       "4      5\n",
       "5      6\n",
       "6      7\n",
       "7      8\n",
       "8      9\n",
       "9     10\n",
       "10    11\n",
       "11    12\n",
       "12    13\n",
       "13    14\n",
       "14    15\n",
       "15    16\n",
       "16    17\n",
       "17    18\n",
       "18    19\n",
       "19    20\n",
       "20    21\n",
       "21    22\n",
       "22    23\n",
       "23    24\n",
       "24    25\n",
       "25    26\n",
       "26    27\n",
       "27    28\n",
       "28    29\n",
       "29    30\n",
       "30    31\n",
       "31    32\n",
       "32    33\n",
       "33    34\n",
       "34    35\n",
       "35    36\n",
       "36    37\n",
       "37    38\n",
       "38    39\n",
       "39    40\n",
       "40    41\n",
       "41    42\n",
       "42    43\n",
       "43    44\n",
       "44    45\n",
       "45    46\n",
       "46    47\n",
       "47    48\n",
       "48    49\n",
       "49    50\n",
       "Name: H_SEQ, dtype: int64"
      ]
     },
     "execution_count": 32,
     "metadata": {},
     "output_type": "execute_result"
    }
   ],
   "source": [
    "df_h_orig['H_SEQ'].head(50)"
   ]
  },
  {
   "cell_type": "code",
   "execution_count": 33,
   "id": "d86fa416",
   "metadata": {},
   "outputs": [],
   "source": [
    "df_ph_22 = df_p_orig.merge(df_h_orig, left_on='PH_SEQ', right_on='H_SEQ', how='left')"
   ]
  },
  {
   "cell_type": "code",
   "execution_count": 34,
   "id": "d7c1c998",
   "metadata": {
    "scrolled": true
   },
   "outputs": [
    {
     "data": {
      "text/plain": [
       "(152732, 976)"
      ]
     },
     "execution_count": 34,
     "metadata": {},
     "output_type": "execute_result"
    }
   ],
   "source": [
    "df_ph_22.shape"
   ]
  },
  {
   "cell_type": "markdown",
   "id": "e0be787b",
   "metadata": {},
   "source": [
    "## Rename columns in merged dataframe for analysis. This needs to include all the columns required, so keep it updated"
   ]
  },
  {
   "cell_type": "code",
   "execution_count": 35,
   "id": "5d324c2f",
   "metadata": {},
   "outputs": [],
   "source": [
    "# Define the renaming code in a list\n",
    "ph_column_renaming = [\n",
    "    ('PERIDNUM', 'Person_ID'),\n",
    "    ('PH_SEQ', 'Household_ID'),\n",
    "    ('PPPOS', 'Per_ID_WithinHH'),\n",
    "    ('A_AGE', 'Age'),\n",
    "    ('A_SEX', 'Sex'),\n",
    "    ('PRDTRACE', 'Race'),\n",
    "    ('PEMLR', 'Emp'),\n",
    "    ('A_CLSWKR', 'Emp_Type'),\n",
    "    ('PRCOW1', 'Emp_Type_recode'),\n",
    "    ('ANN_VAL', 'Retirement_Ann'),\n",
    "    ('DBTN_VAL', 'Retirement_Dist'),\n",
    "    ('ERN_VAL', 'Earnings_Net'),\n",
    "    ('FRM_VAL', 'SE_FARM_2nd'),\n",
    "    ('FRSE_VAL', 'SE_FARM_Tot'),\n",
    "    ('MOOP', 'Total_OutOfPocket_Med_Exp'),\n",
    "    ('MOOP2', 'Total_OutOfPocket_Med_Exp_2'),\n",
    "    ('PEMCPREM', 'Medicare_Premium'),\n",
    "    ('PHIP_VAL', 'Ins_Premium'),\n",
    "    ('PHIP_VAL2', 'Ins_Premium_2'),\n",
    "    ('PMED_VAL', 'Non_Premium_OutOfPocket'),\n",
    "    ('POTC_VAL', 'OverTheCounter_Exp'),\n",
    "    ('PTOTVAL', 'Tot_Per_Income'),\n",
    "    ('PTOT_R', 'Income_Bracket'),\n",
    "    ('SEMP_VAL', 'SE_Tot'),\n",
    "    ('SE_VAL', 'SE_2nd'),\n",
    "    ('WSAL_VAL', 'Wages_Tot'),\n",
    "    ('WS_VAL', 'Wages_Other'),\n",
    "    ('GEREG', 'Region'),\n",
    "    ('GESTFIPS', 'State_Code'),\n",
    "    ('GTCBSA', 'Met_Code'),\n",
    "    ('GTCBSASZ', 'City_Size'),\n",
    "    ('GTCO', 'County_Code'),\n",
    "    ('GTINDVPC', 'City_Code'),\n",
    "    ('NOW_COV', 'Current_Coverage')\n",
    "    \n",
    "]"
   ]
  },
  {
   "cell_type": "code",
   "execution_count": 36,
   "id": "510cdea8",
   "metadata": {
    "scrolled": true
   },
   "outputs": [
    {
     "data": {
      "text/html": [
       "<div>\n",
       "<style scoped>\n",
       "    .dataframe tbody tr th:only-of-type {\n",
       "        vertical-align: middle;\n",
       "    }\n",
       "\n",
       "    .dataframe tbody tr th {\n",
       "        vertical-align: top;\n",
       "    }\n",
       "\n",
       "    .dataframe thead th {\n",
       "        text-align: right;\n",
       "    }\n",
       "</style>\n",
       "<table border=\"1\" class=\"dataframe\">\n",
       "  <thead>\n",
       "    <tr style=\"text-align: right;\">\n",
       "      <th></th>\n",
       "      <th>Person_ID</th>\n",
       "      <th>Household_ID</th>\n",
       "      <th>Per_ID_WithinHH</th>\n",
       "      <th>Age</th>\n",
       "      <th>Sex</th>\n",
       "      <th>Race</th>\n",
       "      <th>Emp</th>\n",
       "      <th>Emp_Type</th>\n",
       "      <th>Emp_Type_recode</th>\n",
       "      <th>Retirement_Ann</th>\n",
       "      <th>...</th>\n",
       "      <th>SE_2nd</th>\n",
       "      <th>Wages_Tot</th>\n",
       "      <th>Wages_Other</th>\n",
       "      <th>Region</th>\n",
       "      <th>State_Code</th>\n",
       "      <th>Met_Code</th>\n",
       "      <th>City_Size</th>\n",
       "      <th>County_Code</th>\n",
       "      <th>City_Code</th>\n",
       "      <th>Current_Coverage</th>\n",
       "    </tr>\n",
       "  </thead>\n",
       "  <tbody>\n",
       "    <tr>\n",
       "      <th>0</th>\n",
       "      <td>2022093493100051201101</td>\n",
       "      <td>1</td>\n",
       "      <td>41</td>\n",
       "      <td>42</td>\n",
       "      <td>1</td>\n",
       "      <td>1</td>\n",
       "      <td>1</td>\n",
       "      <td>1</td>\n",
       "      <td>4</td>\n",
       "      <td>0</td>\n",
       "      <td>...</td>\n",
       "      <td>0</td>\n",
       "      <td>44200</td>\n",
       "      <td>0</td>\n",
       "      <td>1</td>\n",
       "      <td>23</td>\n",
       "      <td>0</td>\n",
       "      <td>0</td>\n",
       "      <td>0</td>\n",
       "      <td>0</td>\n",
       "      <td>1</td>\n",
       "    </tr>\n",
       "    <tr>\n",
       "      <th>1</th>\n",
       "      <td>2100059324402431401101</td>\n",
       "      <td>5</td>\n",
       "      <td>41</td>\n",
       "      <td>62</td>\n",
       "      <td>1</td>\n",
       "      <td>1</td>\n",
       "      <td>1</td>\n",
       "      <td>6</td>\n",
       "      <td>5</td>\n",
       "      <td>0</td>\n",
       "      <td>...</td>\n",
       "      <td>100</td>\n",
       "      <td>0</td>\n",
       "      <td>0</td>\n",
       "      <td>1</td>\n",
       "      <td>23</td>\n",
       "      <td>0</td>\n",
       "      <td>0</td>\n",
       "      <td>0</td>\n",
       "      <td>0</td>\n",
       "      <td>1</td>\n",
       "    </tr>\n",
       "    <tr>\n",
       "      <th>2</th>\n",
       "      <td>2100059324402431401102</td>\n",
       "      <td>5</td>\n",
       "      <td>42</td>\n",
       "      <td>64</td>\n",
       "      <td>2</td>\n",
       "      <td>1</td>\n",
       "      <td>2</td>\n",
       "      <td>3</td>\n",
       "      <td>2</td>\n",
       "      <td>0</td>\n",
       "      <td>...</td>\n",
       "      <td>0</td>\n",
       "      <td>48000</td>\n",
       "      <td>0</td>\n",
       "      <td>1</td>\n",
       "      <td>23</td>\n",
       "      <td>0</td>\n",
       "      <td>0</td>\n",
       "      <td>0</td>\n",
       "      <td>0</td>\n",
       "      <td>1</td>\n",
       "    </tr>\n",
       "    <tr>\n",
       "      <th>3</th>\n",
       "      <td>1410320300869091411101</td>\n",
       "      <td>6</td>\n",
       "      <td>41</td>\n",
       "      <td>26</td>\n",
       "      <td>1</td>\n",
       "      <td>1</td>\n",
       "      <td>1</td>\n",
       "      <td>1</td>\n",
       "      <td>4</td>\n",
       "      <td>0</td>\n",
       "      <td>...</td>\n",
       "      <td>0</td>\n",
       "      <td>40000</td>\n",
       "      <td>0</td>\n",
       "      <td>1</td>\n",
       "      <td>23</td>\n",
       "      <td>0</td>\n",
       "      <td>0</td>\n",
       "      <td>0</td>\n",
       "      <td>0</td>\n",
       "      <td>2</td>\n",
       "    </tr>\n",
       "    <tr>\n",
       "      <th>4</th>\n",
       "      <td>1410320300869091411102</td>\n",
       "      <td>6</td>\n",
       "      <td>42</td>\n",
       "      <td>24</td>\n",
       "      <td>2</td>\n",
       "      <td>3</td>\n",
       "      <td>2</td>\n",
       "      <td>1</td>\n",
       "      <td>4</td>\n",
       "      <td>0</td>\n",
       "      <td>...</td>\n",
       "      <td>0</td>\n",
       "      <td>20000</td>\n",
       "      <td>0</td>\n",
       "      <td>1</td>\n",
       "      <td>23</td>\n",
       "      <td>0</td>\n",
       "      <td>0</td>\n",
       "      <td>0</td>\n",
       "      <td>0</td>\n",
       "      <td>2</td>\n",
       "    </tr>\n",
       "  </tbody>\n",
       "</table>\n",
       "<p>5 rows × 34 columns</p>\n",
       "</div>"
      ],
      "text/plain": [
       "                Person_ID  Household_ID  Per_ID_WithinHH  Age  Sex  Race  Emp  \\\n",
       "0  2022093493100051201101             1               41   42    1     1    1   \n",
       "1  2100059324402431401101             5               41   62    1     1    1   \n",
       "2  2100059324402431401102             5               42   64    2     1    2   \n",
       "3  1410320300869091411101             6               41   26    1     1    1   \n",
       "4  1410320300869091411102             6               42   24    2     3    2   \n",
       "\n",
       "   Emp_Type  Emp_Type_recode  Retirement_Ann  ...  SE_2nd  Wages_Tot  \\\n",
       "0         1                4               0  ...       0      44200   \n",
       "1         6                5               0  ...     100          0   \n",
       "2         3                2               0  ...       0      48000   \n",
       "3         1                4               0  ...       0      40000   \n",
       "4         1                4               0  ...       0      20000   \n",
       "\n",
       "   Wages_Other  Region  State_Code  Met_Code  City_Size  County_Code  \\\n",
       "0            0       1          23         0          0            0   \n",
       "1            0       1          23         0          0            0   \n",
       "2            0       1          23         0          0            0   \n",
       "3            0       1          23         0          0            0   \n",
       "4            0       1          23         0          0            0   \n",
       "\n",
       "   City_Code  Current_Coverage  \n",
       "0          0                 1  \n",
       "1          0                 1  \n",
       "2          0                 1  \n",
       "3          0                 2  \n",
       "4          0                 2  \n",
       "\n",
       "[5 rows x 34 columns]"
      ]
     },
     "execution_count": 36,
     "metadata": {},
     "output_type": "execute_result"
    }
   ],
   "source": [
    "# Extract the renamed columns into a new dataframe 'df_ph'\n",
    "df_ph = pd.DataFrame()\n",
    "\n",
    "for current_name, new_name in ph_column_renaming:\n",
    "    df_ph[new_name] = df_ph_22[current_name]\n",
    "\n",
    "# Print the new dataframe 'df_p'\n",
    "df_ph.head()"
   ]
  },
  {
   "cell_type": "markdown",
   "id": "ef3b1943",
   "metadata": {},
   "source": [
    "## Map person to USA map"
   ]
  },
  {
   "cell_type": "code",
   "execution_count": 37,
   "id": "a7c5c819",
   "metadata": {},
   "outputs": [],
   "source": [
    "# Import \".json\" file for the U.S. \n",
    "\n",
    "country_geo = r'/Users/peterreadman/Desktop/Python Projects/PortfolioProjects/HealthcareSpending/02 Data/02a Original Data/us-states.json'\n"
   ]
  },
  {
   "cell_type": "markdown",
   "id": "6a30e582",
   "metadata": {},
   "source": [
    "### 2a) Transform 'State_Code' column to 'State_Name'\n",
    "Change 'State_Code' FIPS codes to State names to match JSON.\n",
    "- 1 = Alabama\n",
    "- 2 = Alaska\n",
    "    \n",
    "etc."
   ]
  },
  {
   "cell_type": "code",
   "execution_count": 38,
   "id": "f493e95b",
   "metadata": {},
   "outputs": [],
   "source": [
    "# Mapping dictionary for FIPS codes to state names\n",
    "\n",
    "fips_to_state = {\n",
    "    '1': 'Alabama',\n",
    "    '2': 'Alaska',\n",
    "    '4': 'Arizona',\n",
    "    '5': 'Arkansas',\n",
    "    '6': 'California',\n",
    "    '8': 'Colorado',\n",
    "    '9': 'Connecticut',\n",
    "    '10': 'Delaware',\n",
    "    '11': 'District of Columbia',\n",
    "    '12': 'Florida',\n",
    "    '13': 'Georgia',\n",
    "    '15': 'Hawaii',\n",
    "    '16': 'Idaho',\n",
    "    '17': 'Illinois',\n",
    "    '18': 'Indiana',\n",
    "    '19': 'Iowa',\n",
    "    '20': 'Kansas',\n",
    "    '21': 'Kentucky',\n",
    "    '22': 'Louisiana',\n",
    "    '23': 'Maine',\n",
    "    '24': 'Maryland',\n",
    "    '25': 'Massachusetts',\n",
    "    '26': 'Michigan',\n",
    "    '27': 'Minnesota',\n",
    "    '28': 'Mississippi',\n",
    "    '29': 'Missouri',\n",
    "    '30': 'Montana',\n",
    "    '31': 'Nebraska',\n",
    "    '32': 'Nevada',\n",
    "    '33': 'New Hampshire',\n",
    "    '34': 'New Jersey',\n",
    "    '35': 'New Mexico',\n",
    "    '36': 'New York',\n",
    "    '37': 'North Carolina',\n",
    "    '38': 'North Dakota',\n",
    "    '39': 'Ohio',\n",
    "    '40': 'Oklahoma',\n",
    "    '41': 'Oregon',\n",
    "    '42': 'Pennsylvania',\n",
    "    '44': 'Rhode Island',\n",
    "    '45': 'South Carolina',\n",
    "    '46': 'South Dakota',\n",
    "    '47': 'Tennessee',\n",
    "    '48': 'Texas',\n",
    "    '49': 'Utah',\n",
    "    '50': 'Vermont',\n",
    "    '51': 'Virginia',\n",
    "    '53': 'Washington',\n",
    "    '54': 'West Virginia',\n",
    "    '55': 'Wisconsin',\n",
    "    '56': 'Wyoming'\n",
    "}"
   ]
  },
  {
   "cell_type": "code",
   "execution_count": 39,
   "id": "e04d4974",
   "metadata": {},
   "outputs": [],
   "source": [
    "# Convert 'State_Code' column to string data type\n",
    "df_ph['State_Code'] = df_ph['State_Code'].astype(str)"
   ]
  },
  {
   "cell_type": "code",
   "execution_count": 40,
   "id": "9612806f",
   "metadata": {},
   "outputs": [],
   "source": [
    "# Apply the mapping to create a new 'State_Name' column\n",
    "df_ph['State_Code'] = df_ph['State_Code'].map(fips_to_state)"
   ]
  },
  {
   "cell_type": "code",
   "execution_count": 41,
   "id": "67e39b68",
   "metadata": {},
   "outputs": [],
   "source": [
    "# Rename 'State_Code' column to 'State_Name'\n",
    "df_ph = df_ph.rename(columns={'State_Code': 'State_Name'})"
   ]
  },
  {
   "cell_type": "code",
   "execution_count": 42,
   "id": "37a19a03",
   "metadata": {
    "scrolled": true
   },
   "outputs": [
    {
     "data": {
      "text/plain": [
       "California              14822\n",
       "Texas                    9470\n",
       "Florida                  7218\n",
       "New York                 5703\n",
       "Illinois                 4207\n",
       "Pennsylvania             3818\n",
       "Louisiana                3535\n",
       "North Carolina           3497\n",
       "Michigan                 3338\n",
       "Georgia                  3337\n",
       "Massachusetts            3314\n",
       "Ohio                     3275\n",
       "Alabama                  3203\n",
       "Virginia                 3065\n",
       "Utah                     2992\n",
       "New Mexico               2842\n",
       "Washington               2817\n",
       "Arkansas                 2802\n",
       "New Jersey               2775\n",
       "Idaho                    2748\n",
       "Hawaii                   2714\n",
       "Mississippi              2690\n",
       "Tennessee                2637\n",
       "West Virginia            2635\n",
       "South Carolina           2510\n",
       "Arizona                  2499\n",
       "Oklahoma                 2425\n",
       "Indiana                  2390\n",
       "Oregon                   2382\n",
       "Montana                  2350\n",
       "North Dakota             2244\n",
       "District of Columbia     2229\n",
       "Wyoming                  2199\n",
       "Colorado                 2174\n",
       "Missouri                 2137\n",
       "Nevada                   2125\n",
       "Wisconsin                1996\n",
       "Minnesota                1968\n",
       "Maryland                 1881\n",
       "Delaware                 1858\n",
       "Kansas                   1834\n",
       "Nebraska                 1822\n",
       "Kentucky                 1814\n",
       "Alaska                   1796\n",
       "New Hampshire            1764\n",
       "Iowa                     1732\n",
       "South Dakota             1729\n",
       "Vermont                  1658\n",
       "Connecticut              1458\n",
       "Rhode Island             1299\n",
       "Maine                    1005\n",
       "Name: State_Name, dtype: int64"
      ]
     },
     "execution_count": 42,
     "metadata": {},
     "output_type": "execute_result"
    }
   ],
   "source": [
    "df_ph['State_Name'].value_counts()"
   ]
  },
  {
   "cell_type": "markdown",
   "id": "1bdf09cc",
   "metadata": {},
   "source": [
    "# Set up dataframe for analysis with new variables\n",
    "1. Total Out-of-Pocket expenses per person\n",
    "2. Percentage of Income spent on Out-of-Pocket expenses\n",
    "3. Income\n",
    "4. Income bracket\n",
    "5. Employment Type\n",
    "6. Insurance Type\n",
    "7. Sex\n",
    "8. Age\n",
    "9. Race\n",
    "10. Location (State)"
   ]
  },
  {
   "cell_type": "markdown",
   "id": "7b4b27e4",
   "metadata": {},
   "source": [
    "## 1. TotalOut-of-Pocket Expenses into one variable"
   ]
  },
  {
   "cell_type": "code",
   "execution_count": 43,
   "id": "91372c29",
   "metadata": {
    "scrolled": true
   },
   "outputs": [
    {
     "data": {
      "text/plain": [
       "52244"
      ]
     },
     "execution_count": 43,
     "metadata": {},
     "output_type": "execute_result"
    }
   ],
   "source": [
    "len(df_ph[df_ph['Ins_Premium_2'] != 0])"
   ]
  },
  {
   "cell_type": "code",
   "execution_count": 44,
   "id": "49397c3b",
   "metadata": {
    "scrolled": true
   },
   "outputs": [
    {
     "data": {
      "text/plain": [
       "0"
      ]
     },
     "execution_count": 44,
     "metadata": {},
     "output_type": "execute_result"
    }
   ],
   "source": [
    "df_ph['Total_OutOfPocket_Med_Exp'].min()"
   ]
  },
  {
   "cell_type": "code",
   "execution_count": 45,
   "id": "37cad44d",
   "metadata": {},
   "outputs": [
    {
     "name": "stdout",
     "output_type": "stream",
     "text": [
      "Number of rows where 'Ins_Premium' and 'Ins_Premium_2' have matching values: 48879\n",
      "Number of rows where 'Ins_Premium' and 'Ins_Premium_2' have different non-zero values: 453\n"
     ]
    }
   ],
   "source": [
    "# Ignore rows where 'Ins_Premium' and 'Ins_Premium_2' are both 0\n",
    "df_filtered = df_ph[(df_ph['Ins_Premium'] != 0) | (df_ph['Ins_Premium_2'] != 0)]\n",
    "\n",
    "# Count the number of rows where 'Ins_Premium' and 'Ins_Premium_2' are the same value\n",
    "count_matching = len(df_filtered[df_filtered['Ins_Premium'] == df_filtered['Ins_Premium_2']])\n",
    "\n",
    "# Count the number of rows where 'Ins_Premium' and 'Ins_Premium_2' are both greater than 0 but not equal to each other\n",
    "count_not_matching = len(df_filtered[(df_filtered['Ins_Premium'] > 0) & (df_filtered['Ins_Premium_2'] > 0) & (df_filtered['Ins_Premium'] != df_filtered['Ins_Premium_2'])])\n",
    "\n",
    "print(\"Number of rows where 'Ins_Premium' and 'Ins_Premium_2' have matching values:\", count_matching)\n",
    "print(\"Number of rows where 'Ins_Premium' and 'Ins_Premium_2' have different non-zero values:\", count_not_matching)"
   ]
  },
  {
   "cell_type": "markdown",
   "id": "a952651e",
   "metadata": {},
   "source": [
    "#### Assumptions:\n",
    "- remove rows where the values for 'Ins_Premium' and 'Ins_Premium_2' are both greater than 0 but different. Only 453 removals, so a small enough sample\n",
    "- count only one value for rows where the same value has been entered into 'Ins_Premium' and 'Ins_Premium_2'"
   ]
  },
  {
   "cell_type": "code",
   "execution_count": 46,
   "id": "5b6f1f82",
   "metadata": {},
   "outputs": [
    {
     "data": {
      "text/plain": [
       "2687"
      ]
     },
     "execution_count": 46,
     "metadata": {},
     "output_type": "execute_result"
    }
   ],
   "source": [
    "len(df_ph[(df_ph['Total_OutOfPocket_Med_Exp'] > 0) & (df_ph['Total_OutOfPocket_Med_Exp_2'] > 0) & (df_ph['Total_OutOfPocket_Med_Exp'] != df_ph['Total_OutOfPocket_Med_Exp_2'])])"
   ]
  },
  {
   "cell_type": "code",
   "execution_count": 47,
   "id": "16f7eb1c",
   "metadata": {
    "scrolled": true
   },
   "outputs": [
    {
     "data": {
      "text/plain": [
       "(152732, 34)"
      ]
     },
     "execution_count": 47,
     "metadata": {},
     "output_type": "execute_result"
    }
   ],
   "source": [
    "df_ph.shape"
   ]
  },
  {
   "cell_type": "code",
   "execution_count": 48,
   "id": "33deee7b",
   "metadata": {
    "scrolled": false
   },
   "outputs": [
    {
     "data": {
      "text/plain": [
       "0.0175929078385669"
      ]
     },
     "execution_count": 48,
     "metadata": {},
     "output_type": "execute_result"
    }
   ],
   "source": [
    "2687/152732"
   ]
  },
  {
   "cell_type": "markdown",
   "id": "1bacf159",
   "metadata": {},
   "source": [
    "#### Leave these in. Add them together"
   ]
  },
  {
   "cell_type": "code",
   "execution_count": 49,
   "id": "b6f6e5ad",
   "metadata": {},
   "outputs": [],
   "source": [
    "# Add a new column 'MOOP_tot' based on the conditions\n",
    "df_ph['MOOP_tot'] = df_ph.apply(lambda row: row['Total_OutOfPocket_Med_Exp'] + row['Total_OutOfPocket_Med_Exp_2'] if row['Total_OutOfPocket_Med_Exp'] != row['Total_OutOfPocket_Med_Exp_2']\n",
    "                                 else 0 if row['Total_OutOfPocket_Med_Exp'] + row['Total_OutOfPocket_Med_Exp_2'] == 0\n",
    "                                 else row['Total_OutOfPocket_Med_Exp'], axis=1)\n"
   ]
  },
  {
   "cell_type": "markdown",
   "id": "cffd7b85",
   "metadata": {},
   "source": [
    "### Combine 'MOOP_tot' with 'Medicare_Premium' for single column of Out-of-Pocket"
   ]
  },
  {
   "cell_type": "code",
   "execution_count": 50,
   "id": "75268cb2",
   "metadata": {},
   "outputs": [
    {
     "data": {
      "text/plain": [
       "17522"
      ]
     },
     "execution_count": 50,
     "metadata": {},
     "output_type": "execute_result"
    }
   ],
   "source": [
    "len(df_ph[(df_ph['Medicare_Premium'] > 0) & (df_ph['MOOP_tot'] > 0) & (df_ph['Medicare_Premium'] != df_ph['MOOP_tot'])])\n"
   ]
  },
  {
   "cell_type": "code",
   "execution_count": 51,
   "id": "851872b4",
   "metadata": {},
   "outputs": [
    {
     "data": {
      "text/plain": [
       "24"
      ]
     },
     "execution_count": 51,
     "metadata": {},
     "output_type": "execute_result"
    }
   ],
   "source": [
    "len(df_ph[(df_ph['Medicare_Premium'] > 0) & (df_ph['MOOP_tot'] > 0) & (df_ph['Medicare_Premium'] == df_ph['MOOP_tot'])])"
   ]
  },
  {
   "cell_type": "code",
   "execution_count": 52,
   "id": "5740e15a",
   "metadata": {},
   "outputs": [],
   "source": [
    "# Create new column 'Out_of_Pocket' combining 'MOOP_tot' with 'Medicare_Premium'\n",
    "\n",
    "df_ph['Out_of_Pocket'] = df_ph['MOOP_tot'] + df_ph['Medicare_Premium']"
   ]
  },
  {
   "cell_type": "code",
   "execution_count": 53,
   "id": "12eb8423",
   "metadata": {
    "scrolled": true
   },
   "outputs": [
    {
     "data": {
      "text/plain": [
       "(152732, 36)"
      ]
     },
     "execution_count": 53,
     "metadata": {},
     "output_type": "execute_result"
    }
   ],
   "source": [
    "df_ph.shape"
   ]
  },
  {
   "cell_type": "code",
   "execution_count": 54,
   "id": "1f4c170f",
   "metadata": {},
   "outputs": [
    {
     "data": {
      "text/plain": [
       "256800"
      ]
     },
     "execution_count": 54,
     "metadata": {},
     "output_type": "execute_result"
    }
   ],
   "source": [
    "df_ph['Out_of_Pocket'].max()"
   ]
  },
  {
   "cell_type": "code",
   "execution_count": 55,
   "id": "969e1efe",
   "metadata": {
    "scrolled": true
   },
   "outputs": [
    {
     "data": {
      "text/plain": [
       "0"
      ]
     },
     "execution_count": 55,
     "metadata": {},
     "output_type": "execute_result"
    }
   ],
   "source": [
    "df_ph['Out_of_Pocket'].min()"
   ]
  },
  {
   "cell_type": "markdown",
   "id": "621a53e7",
   "metadata": {},
   "source": [
    "## 2. Percentage of Income spent on Out-of-Pocket expenses"
   ]
  },
  {
   "cell_type": "code",
   "execution_count": 56,
   "id": "55dbb7c3",
   "metadata": {},
   "outputs": [],
   "source": [
    "# New column 'Pct_Inc_oop' to store ('Out_of_Pocket' / 'Tot_Per_Income') * 100\n",
    "# For 0 Income, I don't want to remove them since there are so many and I assume legitimate. \n",
    "\n",
    "df_ph['Pct_Inc_oop'] = round((df_ph['Out_of_Pocket'] / df_ph['Tot_Per_Income'].where(df_ph['Tot_Per_Income'] != 0, 0.01)) * 100, 1)"
   ]
  },
  {
   "cell_type": "code",
   "execution_count": 57,
   "id": "9a3d9dab",
   "metadata": {
    "scrolled": false
   },
   "outputs": [
    {
     "data": {
      "text/plain": [
       "1424931.9808063563"
      ]
     },
     "execution_count": 57,
     "metadata": {},
     "output_type": "execute_result"
    }
   ],
   "source": [
    "df_ph['Pct_Inc_oop'].mean()"
   ]
  },
  {
   "cell_type": "markdown",
   "id": "7d510ff5",
   "metadata": {},
   "source": [
    "## 3. Income\n"
   ]
  },
  {
   "cell_type": "code",
   "execution_count": 58,
   "id": "0fccf9ce",
   "metadata": {
    "scrolled": true
   },
   "outputs": [
    {
     "data": {
      "text/plain": [
       "19868.5"
      ]
     },
     "execution_count": 58,
     "metadata": {},
     "output_type": "execute_result"
    }
   ],
   "source": [
    "df_ph['Tot_Per_Income'].median()"
   ]
  },
  {
   "cell_type": "markdown",
   "id": "d983d3e3",
   "metadata": {},
   "source": [
    "## 4. Income bracket\n"
   ]
  },
  {
   "cell_type": "code",
   "execution_count": 59,
   "id": "2d8809b5",
   "metadata": {
    "scrolled": true
   },
   "outputs": [
    {
     "data": {
      "text/plain": [
       "0     31613\n",
       "1     21046\n",
       "41    15223\n",
       "5      4698\n",
       "13     4524\n",
       "9      4251\n",
       "7      4113\n",
       "11     3982\n",
       "17     3895\n",
       "21     3733\n",
       "6      3607\n",
       "15     3397\n",
       "4      3032\n",
       "8      3020\n",
       "25     2833\n",
       "3      2819\n",
       "19     2800\n",
       "10     2775\n",
       "2      2513\n",
       "12     2274\n",
       "23     2227\n",
       "29     1944\n",
       "14     1887\n",
       "16     1815\n",
       "27     1761\n",
       "20     1601\n",
       "31     1563\n",
       "33     1550\n",
       "18     1543\n",
       "22     1280\n",
       "24     1135\n",
       "37     1097\n",
       "35     1083\n",
       "26      961\n",
       "28      876\n",
       "30      786\n",
       "39      763\n",
       "32      734\n",
       "34      553\n",
       "36      544\n",
       "40      441\n",
       "38      440\n",
       "Name: Income_Bracket, dtype: int64"
      ]
     },
     "execution_count": 59,
     "metadata": {},
     "output_type": "execute_result"
    }
   ],
   "source": [
    "df_ph['Income_Bracket'].value_counts()"
   ]
  },
  {
   "cell_type": "markdown",
   "id": "8c478cc1",
   "metadata": {},
   "source": [
    "## 5. Employment Type"
   ]
  },
  {
   "cell_type": "code",
   "execution_count": 60,
   "id": "73f5efde",
   "metadata": {},
   "outputs": [],
   "source": [
    "emp_type_mapping = {0: 'niu',\n",
    "                    1: 'private',\n",
    "                    2: 'gov_fed',\n",
    "                    3: 'gov_state',\n",
    "                    4: 'gov_loc',\n",
    "                    5: 'SE_inc',\n",
    "                    6: 'SE',\n",
    "                    7: 'no_pay',\n",
    "                    8: 'never_worked'\n",
    "                   }\n",
    "\n",
    "# Map the values in 'Emp_Type' column using the mapping dictionary\n",
    "df_ph['Emp_Type'] = df_ph['Emp_Type'].map(emp_type_mapping)"
   ]
  },
  {
   "cell_type": "code",
   "execution_count": 61,
   "id": "1969fd23",
   "metadata": {},
   "outputs": [
    {
     "data": {
      "text/plain": [
       "niu             78058\n",
       "private         56054\n",
       "SE               4825\n",
       "gov_loc          4742\n",
       "gov_state        3759\n",
       "SE_inc           2891\n",
       "gov_fed          2170\n",
       "never_worked      191\n",
       "no_pay             42\n",
       "Name: Emp_Type, dtype: int64"
      ]
     },
     "execution_count": 61,
     "metadata": {},
     "output_type": "execute_result"
    }
   ],
   "source": [
    "df_ph['Emp_Type'].value_counts()"
   ]
  },
  {
   "cell_type": "code",
   "execution_count": 62,
   "id": "5c928dae",
   "metadata": {
    "scrolled": true
   },
   "outputs": [
    {
     "data": {
      "text/html": [
       "<div>\n",
       "<style scoped>\n",
       "    .dataframe tbody tr th:only-of-type {\n",
       "        vertical-align: middle;\n",
       "    }\n",
       "\n",
       "    .dataframe tbody tr th {\n",
       "        vertical-align: top;\n",
       "    }\n",
       "\n",
       "    .dataframe thead th {\n",
       "        text-align: right;\n",
       "    }\n",
       "</style>\n",
       "<table border=\"1\" class=\"dataframe\">\n",
       "  <thead>\n",
       "    <tr style=\"text-align: right;\">\n",
       "      <th></th>\n",
       "      <th>Person_ID</th>\n",
       "      <th>Household_ID</th>\n",
       "      <th>Per_ID_WithinHH</th>\n",
       "      <th>Age</th>\n",
       "      <th>Sex</th>\n",
       "      <th>Race</th>\n",
       "      <th>Emp</th>\n",
       "      <th>Emp_Type</th>\n",
       "      <th>Emp_Type_recode</th>\n",
       "      <th>Retirement_Ann</th>\n",
       "      <th>...</th>\n",
       "      <th>Region</th>\n",
       "      <th>State_Name</th>\n",
       "      <th>Met_Code</th>\n",
       "      <th>City_Size</th>\n",
       "      <th>County_Code</th>\n",
       "      <th>City_Code</th>\n",
       "      <th>Current_Coverage</th>\n",
       "      <th>MOOP_tot</th>\n",
       "      <th>Out_of_Pocket</th>\n",
       "      <th>Pct_Inc_oop</th>\n",
       "    </tr>\n",
       "  </thead>\n",
       "  <tbody>\n",
       "    <tr>\n",
       "      <th>0</th>\n",
       "      <td>2022093493100051201101</td>\n",
       "      <td>1</td>\n",
       "      <td>41</td>\n",
       "      <td>42</td>\n",
       "      <td>1</td>\n",
       "      <td>1</td>\n",
       "      <td>1</td>\n",
       "      <td>private</td>\n",
       "      <td>4</td>\n",
       "      <td>0</td>\n",
       "      <td>...</td>\n",
       "      <td>1</td>\n",
       "      <td>Maine</td>\n",
       "      <td>0</td>\n",
       "      <td>0</td>\n",
       "      <td>0</td>\n",
       "      <td>0</td>\n",
       "      <td>1</td>\n",
       "      <td>3840</td>\n",
       "      <td>3840</td>\n",
       "      <td>8.7</td>\n",
       "    </tr>\n",
       "    <tr>\n",
       "      <th>1</th>\n",
       "      <td>2100059324402431401101</td>\n",
       "      <td>5</td>\n",
       "      <td>41</td>\n",
       "      <td>62</td>\n",
       "      <td>1</td>\n",
       "      <td>1</td>\n",
       "      <td>1</td>\n",
       "      <td>SE</td>\n",
       "      <td>5</td>\n",
       "      <td>0</td>\n",
       "      <td>...</td>\n",
       "      <td>1</td>\n",
       "      <td>Maine</td>\n",
       "      <td>0</td>\n",
       "      <td>0</td>\n",
       "      <td>0</td>\n",
       "      <td>0</td>\n",
       "      <td>1</td>\n",
       "      <td>568</td>\n",
       "      <td>568</td>\n",
       "      <td>1.7</td>\n",
       "    </tr>\n",
       "    <tr>\n",
       "      <th>2</th>\n",
       "      <td>2100059324402431401102</td>\n",
       "      <td>5</td>\n",
       "      <td>42</td>\n",
       "      <td>64</td>\n",
       "      <td>2</td>\n",
       "      <td>1</td>\n",
       "      <td>2</td>\n",
       "      <td>gov_state</td>\n",
       "      <td>2</td>\n",
       "      <td>0</td>\n",
       "      <td>...</td>\n",
       "      <td>1</td>\n",
       "      <td>Maine</td>\n",
       "      <td>0</td>\n",
       "      <td>0</td>\n",
       "      <td>0</td>\n",
       "      <td>0</td>\n",
       "      <td>1</td>\n",
       "      <td>1300</td>\n",
       "      <td>1300</td>\n",
       "      <td>2.6</td>\n",
       "    </tr>\n",
       "    <tr>\n",
       "      <th>3</th>\n",
       "      <td>1410320300869091411101</td>\n",
       "      <td>6</td>\n",
       "      <td>41</td>\n",
       "      <td>26</td>\n",
       "      <td>1</td>\n",
       "      <td>1</td>\n",
       "      <td>1</td>\n",
       "      <td>private</td>\n",
       "      <td>4</td>\n",
       "      <td>0</td>\n",
       "      <td>...</td>\n",
       "      <td>1</td>\n",
       "      <td>Maine</td>\n",
       "      <td>0</td>\n",
       "      <td>0</td>\n",
       "      <td>0</td>\n",
       "      <td>0</td>\n",
       "      <td>2</td>\n",
       "      <td>100</td>\n",
       "      <td>100</td>\n",
       "      <td>0.2</td>\n",
       "    </tr>\n",
       "    <tr>\n",
       "      <th>4</th>\n",
       "      <td>1410320300869091411102</td>\n",
       "      <td>6</td>\n",
       "      <td>42</td>\n",
       "      <td>24</td>\n",
       "      <td>2</td>\n",
       "      <td>3</td>\n",
       "      <td>2</td>\n",
       "      <td>private</td>\n",
       "      <td>4</td>\n",
       "      <td>0</td>\n",
       "      <td>...</td>\n",
       "      <td>1</td>\n",
       "      <td>Maine</td>\n",
       "      <td>0</td>\n",
       "      <td>0</td>\n",
       "      <td>0</td>\n",
       "      <td>0</td>\n",
       "      <td>2</td>\n",
       "      <td>1400</td>\n",
       "      <td>1400</td>\n",
       "      <td>7.0</td>\n",
       "    </tr>\n",
       "  </tbody>\n",
       "</table>\n",
       "<p>5 rows × 37 columns</p>\n",
       "</div>"
      ],
      "text/plain": [
       "                Person_ID  Household_ID  Per_ID_WithinHH  Age  Sex  Race  Emp  \\\n",
       "0  2022093493100051201101             1               41   42    1     1    1   \n",
       "1  2100059324402431401101             5               41   62    1     1    1   \n",
       "2  2100059324402431401102             5               42   64    2     1    2   \n",
       "3  1410320300869091411101             6               41   26    1     1    1   \n",
       "4  1410320300869091411102             6               42   24    2     3    2   \n",
       "\n",
       "    Emp_Type  Emp_Type_recode  Retirement_Ann  ...  Region  State_Name  \\\n",
       "0    private                4               0  ...       1       Maine   \n",
       "1         SE                5               0  ...       1       Maine   \n",
       "2  gov_state                2               0  ...       1       Maine   \n",
       "3    private                4               0  ...       1       Maine   \n",
       "4    private                4               0  ...       1       Maine   \n",
       "\n",
       "   Met_Code  City_Size  County_Code  City_Code  Current_Coverage  MOOP_tot  \\\n",
       "0         0          0            0          0                 1      3840   \n",
       "1         0          0            0          0                 1       568   \n",
       "2         0          0            0          0                 1      1300   \n",
       "3         0          0            0          0                 2       100   \n",
       "4         0          0            0          0                 2      1400   \n",
       "\n",
       "   Out_of_Pocket  Pct_Inc_oop  \n",
       "0           3840          8.7  \n",
       "1            568          1.7  \n",
       "2           1300          2.6  \n",
       "3            100          0.2  \n",
       "4           1400          7.0  \n",
       "\n",
       "[5 rows x 37 columns]"
      ]
     },
     "execution_count": 62,
     "metadata": {},
     "output_type": "execute_result"
    }
   ],
   "source": [
    "df_ph.head()"
   ]
  },
  {
   "cell_type": "markdown",
   "id": "81d218e7",
   "metadata": {},
   "source": [
    "## 6. Insurance Type\n",
    "Set up new Insurance_Type column and build it with all the insurance types, then join to df\n",
    "\n",
    "1. Create a new dataframe with unique ID (for joining later) and each Insurance Type column\n"
   ]
  },
  {
   "cell_type": "code",
   "execution_count": 63,
   "id": "20063364",
   "metadata": {},
   "outputs": [],
   "source": [
    "# List to rename columns required\n",
    "\n",
    "Ins_Type_Columns = [('PH_SEQ', 'Household_ID'),\n",
    "                    ('PPPOS', 'Per_ID_WithinHH'),\n",
    "                    ('NOW_PUB', 'Public'),  # Public coverage\n",
    "                    ('NOW_PRIV', 'Private'), # Private coverage\n",
    "                    ('NOW_GRP', 'Employment'), # Employment-based coverage\n",
    "                    ('NOW_OWNGRP', 'Employment_Policy_Holder'),\n",
    "                    ('NOW_HIPAID', 'Employment_AllSomeNone'), # Employer pays all, some, none\n",
    "                    ('NOW_DIR', 'Direct_Purchase'), # Direct-purchase coverage\n",
    "                    ('NOW_MRK', 'Marketplace'), # Marketplace coverage\n",
    "                    ('NOW_MCAID', 'Medicaid'), # Medicaid or other means-tested coverage\n",
    "                    ('NOW_PCHIP', 'PCHIP'), # PCHIP coverage\n",
    "                    ('NOW_MCARE', 'Medicare'), # Medicare coverage\n",
    "                    ('NOW_IHSFLG', 'Indian_HS'), # Indian Health Service coverage\n",
    "                    ('NOW_MIL', 'Tricare'), # TRICARE coverage for uniformed service members, retirees, and their families around the world.\n",
    "                    ('NOW_CHAMPVA', 'CHAMPVA'), # CHAMPVA coverage Civilian Health and Medical Program of the Department of Veterans Affairs\n",
    "                    ('NOW_VACARE', 'VA') # VACARE coverage (Veterans)\n",
    "                   ]"
   ]
  },
  {
   "cell_type": "code",
   "execution_count": 64,
   "id": "a86663c7",
   "metadata": {},
   "outputs": [],
   "source": [
    "# New dataframe for wrangling the insurance type columns into one column\n",
    "\n",
    "# Create a dictionary to store the renamed columns\n",
    "new_columns = {old_name: new_name for old_name, new_name in Ins_Type_Columns}\n",
    "\n",
    "# Create the new dataframe with selected columns and renamed columns\n",
    "df_ins_type = df_ph_22[list(new_columns.keys())].rename(columns=new_columns)"
   ]
  },
  {
   "cell_type": "code",
   "execution_count": 65,
   "id": "bf677bf8",
   "metadata": {},
   "outputs": [],
   "source": [
    "# Create the 'Insurance_Type' column\n",
    "df_ins_type['Insurance_Type'] = 'Unknown'"
   ]
  },
  {
   "cell_type": "code",
   "execution_count": 66,
   "id": "c1e08535",
   "metadata": {
    "scrolled": true
   },
   "outputs": [
    {
     "data": {
      "text/html": [
       "<div>\n",
       "<style scoped>\n",
       "    .dataframe tbody tr th:only-of-type {\n",
       "        vertical-align: middle;\n",
       "    }\n",
       "\n",
       "    .dataframe tbody tr th {\n",
       "        vertical-align: top;\n",
       "    }\n",
       "\n",
       "    .dataframe thead th {\n",
       "        text-align: right;\n",
       "    }\n",
       "</style>\n",
       "<table border=\"1\" class=\"dataframe\">\n",
       "  <thead>\n",
       "    <tr style=\"text-align: right;\">\n",
       "      <th></th>\n",
       "      <th>Household_ID</th>\n",
       "      <th>Per_ID_WithinHH</th>\n",
       "      <th>Public</th>\n",
       "      <th>Private</th>\n",
       "      <th>Employment</th>\n",
       "      <th>Employment_Policy_Holder</th>\n",
       "      <th>Employment_AllSomeNone</th>\n",
       "      <th>Direct_Purchase</th>\n",
       "      <th>Marketplace</th>\n",
       "      <th>Medicaid</th>\n",
       "      <th>PCHIP</th>\n",
       "      <th>Medicare</th>\n",
       "      <th>Indian_HS</th>\n",
       "      <th>Tricare</th>\n",
       "      <th>CHAMPVA</th>\n",
       "      <th>VA</th>\n",
       "      <th>Insurance_Type</th>\n",
       "    </tr>\n",
       "  </thead>\n",
       "  <tbody>\n",
       "    <tr>\n",
       "      <th>0</th>\n",
       "      <td>1</td>\n",
       "      <td>41</td>\n",
       "      <td>2</td>\n",
       "      <td>1</td>\n",
       "      <td>2</td>\n",
       "      <td>0</td>\n",
       "      <td>0</td>\n",
       "      <td>1</td>\n",
       "      <td>1</td>\n",
       "      <td>2</td>\n",
       "      <td>2</td>\n",
       "      <td>2</td>\n",
       "      <td>2</td>\n",
       "      <td>2</td>\n",
       "      <td>2</td>\n",
       "      <td>2</td>\n",
       "      <td>Unknown</td>\n",
       "    </tr>\n",
       "    <tr>\n",
       "      <th>1</th>\n",
       "      <td>5</td>\n",
       "      <td>41</td>\n",
       "      <td>2</td>\n",
       "      <td>1</td>\n",
       "      <td>1</td>\n",
       "      <td>2</td>\n",
       "      <td>0</td>\n",
       "      <td>2</td>\n",
       "      <td>2</td>\n",
       "      <td>2</td>\n",
       "      <td>2</td>\n",
       "      <td>2</td>\n",
       "      <td>2</td>\n",
       "      <td>2</td>\n",
       "      <td>2</td>\n",
       "      <td>2</td>\n",
       "      <td>Unknown</td>\n",
       "    </tr>\n",
       "    <tr>\n",
       "      <th>2</th>\n",
       "      <td>5</td>\n",
       "      <td>42</td>\n",
       "      <td>2</td>\n",
       "      <td>1</td>\n",
       "      <td>1</td>\n",
       "      <td>1</td>\n",
       "      <td>2</td>\n",
       "      <td>2</td>\n",
       "      <td>2</td>\n",
       "      <td>2</td>\n",
       "      <td>2</td>\n",
       "      <td>2</td>\n",
       "      <td>2</td>\n",
       "      <td>2</td>\n",
       "      <td>2</td>\n",
       "      <td>2</td>\n",
       "      <td>Unknown</td>\n",
       "    </tr>\n",
       "    <tr>\n",
       "      <th>3</th>\n",
       "      <td>6</td>\n",
       "      <td>41</td>\n",
       "      <td>2</td>\n",
       "      <td>2</td>\n",
       "      <td>2</td>\n",
       "      <td>0</td>\n",
       "      <td>0</td>\n",
       "      <td>2</td>\n",
       "      <td>2</td>\n",
       "      <td>2</td>\n",
       "      <td>2</td>\n",
       "      <td>2</td>\n",
       "      <td>2</td>\n",
       "      <td>2</td>\n",
       "      <td>2</td>\n",
       "      <td>2</td>\n",
       "      <td>Unknown</td>\n",
       "    </tr>\n",
       "    <tr>\n",
       "      <th>4</th>\n",
       "      <td>6</td>\n",
       "      <td>42</td>\n",
       "      <td>2</td>\n",
       "      <td>2</td>\n",
       "      <td>2</td>\n",
       "      <td>0</td>\n",
       "      <td>0</td>\n",
       "      <td>2</td>\n",
       "      <td>2</td>\n",
       "      <td>2</td>\n",
       "      <td>2</td>\n",
       "      <td>2</td>\n",
       "      <td>1</td>\n",
       "      <td>2</td>\n",
       "      <td>2</td>\n",
       "      <td>2</td>\n",
       "      <td>Unknown</td>\n",
       "    </tr>\n",
       "  </tbody>\n",
       "</table>\n",
       "</div>"
      ],
      "text/plain": [
       "   Household_ID  Per_ID_WithinHH  Public  Private  Employment  \\\n",
       "0             1               41       2        1           2   \n",
       "1             5               41       2        1           1   \n",
       "2             5               42       2        1           1   \n",
       "3             6               41       2        2           2   \n",
       "4             6               42       2        2           2   \n",
       "\n",
       "   Employment_Policy_Holder  Employment_AllSomeNone  Direct_Purchase  \\\n",
       "0                         0                       0                1   \n",
       "1                         2                       0                2   \n",
       "2                         1                       2                2   \n",
       "3                         0                       0                2   \n",
       "4                         0                       0                2   \n",
       "\n",
       "   Marketplace  Medicaid  PCHIP  Medicare  Indian_HS  Tricare  CHAMPVA  VA  \\\n",
       "0            1         2      2         2          2        2        2   2   \n",
       "1            2         2      2         2          2        2        2   2   \n",
       "2            2         2      2         2          2        2        2   2   \n",
       "3            2         2      2         2          2        2        2   2   \n",
       "4            2         2      2         2          1        2        2   2   \n",
       "\n",
       "  Insurance_Type  \n",
       "0        Unknown  \n",
       "1        Unknown  \n",
       "2        Unknown  \n",
       "3        Unknown  \n",
       "4        Unknown  "
      ]
     },
     "execution_count": 66,
     "metadata": {},
     "output_type": "execute_result"
    }
   ],
   "source": [
    "df_ins_type.head()\n"
   ]
  },
  {
   "cell_type": "code",
   "execution_count": 67,
   "id": "54b4e686",
   "metadata": {},
   "outputs": [],
   "source": [
    "import random\n",
    "\n",
    "# Define the rules for assigning values to 'Insurance_Type' column\n",
    "rules = [\n",
    "    (df_ins_type['Employment'], 'Employment'),\n",
    "    (df_ins_type['Marketplace'], 'Marketplace'),\n",
    "    (df_ins_type['Medicaid'], 'Medicaid'),\n",
    "    (df_ins_type['PCHIP'], 'PCHIP'),\n",
    "    (df_ins_type['Medicare'], 'Medicare'),\n",
    "    (df_ins_type['Indian_HS'], 'Indian_HS'),\n",
    "    (df_ins_type['Tricare'], 'Tricare'),\n",
    "    (df_ins_type['CHAMPVA'], 'CHAMPVA'),\n",
    "    (df_ins_type['VA'], 'VA')\n",
    "]\n",
    "\n",
    "# Assign values to 'Insurance_Type' column based on the rules\n",
    "for condition, value in rules:\n",
    "    df_ins_type.loc[condition == 1, 'Insurance_Type'] = value\n",
    "\n",
    "# Handle cases where there is a '1' in more than one column\n",
    "multiple_ones_mask = (\n",
    "    (df_ins_type['Employment'] == 1) +\n",
    "    (df_ins_type['Marketplace'] == 1) +\n",
    "    (df_ins_type['Medicaid'] == 1) +\n",
    "    (df_ins_type['PCHIP'] == 1) +\n",
    "    (df_ins_type['Medicare'] == 1) +\n",
    "    (df_ins_type['Indian_HS'] == 1) +\n",
    "    (df_ins_type['Tricare'] == 1) +\n",
    "    (df_ins_type['CHAMPVA'] == 1) +\n",
    "    (df_ins_type['VA'] == 1)\n",
    ") > 1\n",
    "\n",
    "multiple_ones_indices = df_ins_type[multiple_ones_mask].index\n",
    "\n",
    "for index in multiple_ones_indices:\n",
    "    applicable_rules = [(condition, value) for condition, value in rules if condition[index]]\n",
    "    chosen_rule = random.choice(applicable_rules)\n",
    "    df_ins_type.at[index, 'Insurance_Type'] = chosen_rule[1]\n"
   ]
  },
  {
   "cell_type": "code",
   "execution_count": 68,
   "id": "e4b69423",
   "metadata": {
    "scrolled": false
   },
   "outputs": [
    {
     "data": {
      "text/html": [
       "<div>\n",
       "<style scoped>\n",
       "    .dataframe tbody tr th:only-of-type {\n",
       "        vertical-align: middle;\n",
       "    }\n",
       "\n",
       "    .dataframe tbody tr th {\n",
       "        vertical-align: top;\n",
       "    }\n",
       "\n",
       "    .dataframe thead th {\n",
       "        text-align: right;\n",
       "    }\n",
       "</style>\n",
       "<table border=\"1\" class=\"dataframe\">\n",
       "  <thead>\n",
       "    <tr style=\"text-align: right;\">\n",
       "      <th></th>\n",
       "      <th>Household_ID</th>\n",
       "      <th>Per_ID_WithinHH</th>\n",
       "      <th>Public</th>\n",
       "      <th>Private</th>\n",
       "      <th>Employment</th>\n",
       "      <th>Employment_Policy_Holder</th>\n",
       "      <th>Employment_AllSomeNone</th>\n",
       "      <th>Direct_Purchase</th>\n",
       "      <th>Marketplace</th>\n",
       "      <th>Medicaid</th>\n",
       "      <th>PCHIP</th>\n",
       "      <th>Medicare</th>\n",
       "      <th>Indian_HS</th>\n",
       "      <th>Tricare</th>\n",
       "      <th>CHAMPVA</th>\n",
       "      <th>VA</th>\n",
       "      <th>Insurance_Type</th>\n",
       "    </tr>\n",
       "  </thead>\n",
       "  <tbody>\n",
       "    <tr>\n",
       "      <th>0</th>\n",
       "      <td>1</td>\n",
       "      <td>41</td>\n",
       "      <td>2</td>\n",
       "      <td>1</td>\n",
       "      <td>2</td>\n",
       "      <td>0</td>\n",
       "      <td>0</td>\n",
       "      <td>1</td>\n",
       "      <td>1</td>\n",
       "      <td>2</td>\n",
       "      <td>2</td>\n",
       "      <td>2</td>\n",
       "      <td>2</td>\n",
       "      <td>2</td>\n",
       "      <td>2</td>\n",
       "      <td>2</td>\n",
       "      <td>Marketplace</td>\n",
       "    </tr>\n",
       "    <tr>\n",
       "      <th>1</th>\n",
       "      <td>5</td>\n",
       "      <td>41</td>\n",
       "      <td>2</td>\n",
       "      <td>1</td>\n",
       "      <td>1</td>\n",
       "      <td>2</td>\n",
       "      <td>0</td>\n",
       "      <td>2</td>\n",
       "      <td>2</td>\n",
       "      <td>2</td>\n",
       "      <td>2</td>\n",
       "      <td>2</td>\n",
       "      <td>2</td>\n",
       "      <td>2</td>\n",
       "      <td>2</td>\n",
       "      <td>2</td>\n",
       "      <td>Employment</td>\n",
       "    </tr>\n",
       "    <tr>\n",
       "      <th>2</th>\n",
       "      <td>5</td>\n",
       "      <td>42</td>\n",
       "      <td>2</td>\n",
       "      <td>1</td>\n",
       "      <td>1</td>\n",
       "      <td>1</td>\n",
       "      <td>2</td>\n",
       "      <td>2</td>\n",
       "      <td>2</td>\n",
       "      <td>2</td>\n",
       "      <td>2</td>\n",
       "      <td>2</td>\n",
       "      <td>2</td>\n",
       "      <td>2</td>\n",
       "      <td>2</td>\n",
       "      <td>2</td>\n",
       "      <td>Employment</td>\n",
       "    </tr>\n",
       "    <tr>\n",
       "      <th>3</th>\n",
       "      <td>6</td>\n",
       "      <td>41</td>\n",
       "      <td>2</td>\n",
       "      <td>2</td>\n",
       "      <td>2</td>\n",
       "      <td>0</td>\n",
       "      <td>0</td>\n",
       "      <td>2</td>\n",
       "      <td>2</td>\n",
       "      <td>2</td>\n",
       "      <td>2</td>\n",
       "      <td>2</td>\n",
       "      <td>2</td>\n",
       "      <td>2</td>\n",
       "      <td>2</td>\n",
       "      <td>2</td>\n",
       "      <td>Unknown</td>\n",
       "    </tr>\n",
       "    <tr>\n",
       "      <th>4</th>\n",
       "      <td>6</td>\n",
       "      <td>42</td>\n",
       "      <td>2</td>\n",
       "      <td>2</td>\n",
       "      <td>2</td>\n",
       "      <td>0</td>\n",
       "      <td>0</td>\n",
       "      <td>2</td>\n",
       "      <td>2</td>\n",
       "      <td>2</td>\n",
       "      <td>2</td>\n",
       "      <td>2</td>\n",
       "      <td>1</td>\n",
       "      <td>2</td>\n",
       "      <td>2</td>\n",
       "      <td>2</td>\n",
       "      <td>Indian_HS</td>\n",
       "    </tr>\n",
       "  </tbody>\n",
       "</table>\n",
       "</div>"
      ],
      "text/plain": [
       "   Household_ID  Per_ID_WithinHH  Public  Private  Employment  \\\n",
       "0             1               41       2        1           2   \n",
       "1             5               41       2        1           1   \n",
       "2             5               42       2        1           1   \n",
       "3             6               41       2        2           2   \n",
       "4             6               42       2        2           2   \n",
       "\n",
       "   Employment_Policy_Holder  Employment_AllSomeNone  Direct_Purchase  \\\n",
       "0                         0                       0                1   \n",
       "1                         2                       0                2   \n",
       "2                         1                       2                2   \n",
       "3                         0                       0                2   \n",
       "4                         0                       0                2   \n",
       "\n",
       "   Marketplace  Medicaid  PCHIP  Medicare  Indian_HS  Tricare  CHAMPVA  VA  \\\n",
       "0            1         2      2         2          2        2        2   2   \n",
       "1            2         2      2         2          2        2        2   2   \n",
       "2            2         2      2         2          2        2        2   2   \n",
       "3            2         2      2         2          2        2        2   2   \n",
       "4            2         2      2         2          1        2        2   2   \n",
       "\n",
       "  Insurance_Type  \n",
       "0    Marketplace  \n",
       "1     Employment  \n",
       "2     Employment  \n",
       "3        Unknown  \n",
       "4      Indian_HS  "
      ]
     },
     "execution_count": 68,
     "metadata": {},
     "output_type": "execute_result"
    }
   ],
   "source": [
    "df_ins_type.head()"
   ]
  },
  {
   "cell_type": "code",
   "execution_count": 69,
   "id": "c08399c9",
   "metadata": {
    "scrolled": false
   },
   "outputs": [
    {
     "data": {
      "text/plain": [
       "Employment     73988\n",
       "Medicaid       25337\n",
       "Medicare       25229\n",
       "Unknown        15813\n",
       "Marketplace     4889\n",
       "Tricare         4191\n",
       "VA              1232\n",
       "PCHIP            954\n",
       "Indian_HS        814\n",
       "CHAMPVA          285\n",
       "Name: Insurance_Type, dtype: int64"
      ]
     },
     "execution_count": 69,
     "metadata": {},
     "output_type": "execute_result"
    }
   ],
   "source": [
    "df_ins_type['Insurance_Type'].value_counts()"
   ]
  },
  {
   "cell_type": "markdown",
   "id": "82f1746c",
   "metadata": {},
   "source": [
    "### Join the 'Insurance_Type' colunm onto the df_ph dataframe, matching on 'Household_ID' and 'Per_ID_WithinHH'"
   ]
  },
  {
   "cell_type": "code",
   "execution_count": 70,
   "id": "d2b5d159",
   "metadata": {},
   "outputs": [],
   "source": [
    "# Perform the join based on 'Household_ID' and 'Per_ID_WithinHH'\n",
    "df_merged = df_ph.merge(df_ins_type[['Household_ID', 'Per_ID_WithinHH', 'Insurance_Type']], \n",
    "                        on=['Household_ID', 'Per_ID_WithinHH'], \n",
    "                        how='left')\n",
    "\n",
    "# Display the merged dataframe"
   ]
  },
  {
   "cell_type": "code",
   "execution_count": 71,
   "id": "6eea8717",
   "metadata": {},
   "outputs": [],
   "source": [
    "df_ph = df_merged"
   ]
  },
  {
   "cell_type": "code",
   "execution_count": 72,
   "id": "9fec123e",
   "metadata": {
    "scrolled": false
   },
   "outputs": [
    {
     "data": {
      "text/html": [
       "<div>\n",
       "<style scoped>\n",
       "    .dataframe tbody tr th:only-of-type {\n",
       "        vertical-align: middle;\n",
       "    }\n",
       "\n",
       "    .dataframe tbody tr th {\n",
       "        vertical-align: top;\n",
       "    }\n",
       "\n",
       "    .dataframe thead th {\n",
       "        text-align: right;\n",
       "    }\n",
       "</style>\n",
       "<table border=\"1\" class=\"dataframe\">\n",
       "  <thead>\n",
       "    <tr style=\"text-align: right;\">\n",
       "      <th></th>\n",
       "      <th>Person_ID</th>\n",
       "      <th>Household_ID</th>\n",
       "      <th>Per_ID_WithinHH</th>\n",
       "      <th>Age</th>\n",
       "      <th>Sex</th>\n",
       "      <th>Race</th>\n",
       "      <th>Emp</th>\n",
       "      <th>Emp_Type</th>\n",
       "      <th>Emp_Type_recode</th>\n",
       "      <th>Retirement_Ann</th>\n",
       "      <th>...</th>\n",
       "      <th>State_Name</th>\n",
       "      <th>Met_Code</th>\n",
       "      <th>City_Size</th>\n",
       "      <th>County_Code</th>\n",
       "      <th>City_Code</th>\n",
       "      <th>Current_Coverage</th>\n",
       "      <th>MOOP_tot</th>\n",
       "      <th>Out_of_Pocket</th>\n",
       "      <th>Pct_Inc_oop</th>\n",
       "      <th>Insurance_Type</th>\n",
       "    </tr>\n",
       "  </thead>\n",
       "  <tbody>\n",
       "    <tr>\n",
       "      <th>0</th>\n",
       "      <td>2022093493100051201101</td>\n",
       "      <td>1</td>\n",
       "      <td>41</td>\n",
       "      <td>42</td>\n",
       "      <td>1</td>\n",
       "      <td>1</td>\n",
       "      <td>1</td>\n",
       "      <td>private</td>\n",
       "      <td>4</td>\n",
       "      <td>0</td>\n",
       "      <td>...</td>\n",
       "      <td>Maine</td>\n",
       "      <td>0</td>\n",
       "      <td>0</td>\n",
       "      <td>0</td>\n",
       "      <td>0</td>\n",
       "      <td>1</td>\n",
       "      <td>3840</td>\n",
       "      <td>3840</td>\n",
       "      <td>8.7</td>\n",
       "      <td>Marketplace</td>\n",
       "    </tr>\n",
       "    <tr>\n",
       "      <th>1</th>\n",
       "      <td>2100059324402431401101</td>\n",
       "      <td>5</td>\n",
       "      <td>41</td>\n",
       "      <td>62</td>\n",
       "      <td>1</td>\n",
       "      <td>1</td>\n",
       "      <td>1</td>\n",
       "      <td>SE</td>\n",
       "      <td>5</td>\n",
       "      <td>0</td>\n",
       "      <td>...</td>\n",
       "      <td>Maine</td>\n",
       "      <td>0</td>\n",
       "      <td>0</td>\n",
       "      <td>0</td>\n",
       "      <td>0</td>\n",
       "      <td>1</td>\n",
       "      <td>568</td>\n",
       "      <td>568</td>\n",
       "      <td>1.7</td>\n",
       "      <td>Employment</td>\n",
       "    </tr>\n",
       "    <tr>\n",
       "      <th>2</th>\n",
       "      <td>2100059324402431401102</td>\n",
       "      <td>5</td>\n",
       "      <td>42</td>\n",
       "      <td>64</td>\n",
       "      <td>2</td>\n",
       "      <td>1</td>\n",
       "      <td>2</td>\n",
       "      <td>gov_state</td>\n",
       "      <td>2</td>\n",
       "      <td>0</td>\n",
       "      <td>...</td>\n",
       "      <td>Maine</td>\n",
       "      <td>0</td>\n",
       "      <td>0</td>\n",
       "      <td>0</td>\n",
       "      <td>0</td>\n",
       "      <td>1</td>\n",
       "      <td>1300</td>\n",
       "      <td>1300</td>\n",
       "      <td>2.6</td>\n",
       "      <td>Employment</td>\n",
       "    </tr>\n",
       "    <tr>\n",
       "      <th>3</th>\n",
       "      <td>1410320300869091411101</td>\n",
       "      <td>6</td>\n",
       "      <td>41</td>\n",
       "      <td>26</td>\n",
       "      <td>1</td>\n",
       "      <td>1</td>\n",
       "      <td>1</td>\n",
       "      <td>private</td>\n",
       "      <td>4</td>\n",
       "      <td>0</td>\n",
       "      <td>...</td>\n",
       "      <td>Maine</td>\n",
       "      <td>0</td>\n",
       "      <td>0</td>\n",
       "      <td>0</td>\n",
       "      <td>0</td>\n",
       "      <td>2</td>\n",
       "      <td>100</td>\n",
       "      <td>100</td>\n",
       "      <td>0.2</td>\n",
       "      <td>Unknown</td>\n",
       "    </tr>\n",
       "    <tr>\n",
       "      <th>4</th>\n",
       "      <td>1410320300869091411102</td>\n",
       "      <td>6</td>\n",
       "      <td>42</td>\n",
       "      <td>24</td>\n",
       "      <td>2</td>\n",
       "      <td>3</td>\n",
       "      <td>2</td>\n",
       "      <td>private</td>\n",
       "      <td>4</td>\n",
       "      <td>0</td>\n",
       "      <td>...</td>\n",
       "      <td>Maine</td>\n",
       "      <td>0</td>\n",
       "      <td>0</td>\n",
       "      <td>0</td>\n",
       "      <td>0</td>\n",
       "      <td>2</td>\n",
       "      <td>1400</td>\n",
       "      <td>1400</td>\n",
       "      <td>7.0</td>\n",
       "      <td>Indian_HS</td>\n",
       "    </tr>\n",
       "  </tbody>\n",
       "</table>\n",
       "<p>5 rows × 38 columns</p>\n",
       "</div>"
      ],
      "text/plain": [
       "                Person_ID  Household_ID  Per_ID_WithinHH  Age  Sex  Race  Emp  \\\n",
       "0  2022093493100051201101             1               41   42    1     1    1   \n",
       "1  2100059324402431401101             5               41   62    1     1    1   \n",
       "2  2100059324402431401102             5               42   64    2     1    2   \n",
       "3  1410320300869091411101             6               41   26    1     1    1   \n",
       "4  1410320300869091411102             6               42   24    2     3    2   \n",
       "\n",
       "    Emp_Type  Emp_Type_recode  Retirement_Ann  ...  State_Name  Met_Code  \\\n",
       "0    private                4               0  ...       Maine         0   \n",
       "1         SE                5               0  ...       Maine         0   \n",
       "2  gov_state                2               0  ...       Maine         0   \n",
       "3    private                4               0  ...       Maine         0   \n",
       "4    private                4               0  ...       Maine         0   \n",
       "\n",
       "   City_Size  County_Code  City_Code  Current_Coverage  MOOP_tot  \\\n",
       "0          0            0          0                 1      3840   \n",
       "1          0            0          0                 1       568   \n",
       "2          0            0          0                 1      1300   \n",
       "3          0            0          0                 2       100   \n",
       "4          0            0          0                 2      1400   \n",
       "\n",
       "   Out_of_Pocket  Pct_Inc_oop  Insurance_Type  \n",
       "0           3840          8.7     Marketplace  \n",
       "1            568          1.7      Employment  \n",
       "2           1300          2.6      Employment  \n",
       "3            100          0.2         Unknown  \n",
       "4           1400          7.0       Indian_HS  \n",
       "\n",
       "[5 rows x 38 columns]"
      ]
     },
     "execution_count": 72,
     "metadata": {},
     "output_type": "execute_result"
    }
   ],
   "source": [
    "df_ph.head()"
   ]
  },
  {
   "cell_type": "markdown",
   "id": "beeb5171",
   "metadata": {},
   "source": [
    "### 6(b) Add column for subcategory of 'Employer Insurance' Type for proportion of premium paid by employer"
   ]
  },
  {
   "cell_type": "markdown",
   "id": "55d96cd6",
   "metadata": {},
   "source": [
    "#### Change column name from 'NOW_HIPAID' to 'Employer_Paid'"
   ]
  },
  {
   "cell_type": "code",
   "execution_count": 73,
   "id": "1655eecc",
   "metadata": {},
   "outputs": [],
   "source": [
    "Emp_Paid_Columns = [('PH_SEQ', 'Household_ID'),\n",
    "                    ('PPPOS', 'Per_ID_WithinHH'),\n",
    "                    ('NOW_HIPAID', 'Employer_Paid')]"
   ]
  },
  {
   "cell_type": "code",
   "execution_count": 74,
   "id": "6ba7b929",
   "metadata": {},
   "outputs": [],
   "source": [
    "# New dataframe for wrangling the insurance type columns into one column\n",
    "\n",
    "# Create a dictionary to store the renamed columns\n",
    "new_columns = {old_name: new_name for old_name, new_name in Emp_Paid_Columns}\n",
    "\n",
    "# Create the new dataframe with selected columns and renamed columns\n",
    "df_emp_paid = df_p_orig[list(new_columns.keys())].rename(columns=new_columns)"
   ]
  },
  {
   "cell_type": "code",
   "execution_count": 75,
   "id": "77285348",
   "metadata": {},
   "outputs": [],
   "source": [
    "emp_paid_mapping = {0: 'niu',\n",
    "                    1: 'All',\n",
    "                    2: 'Some',\n",
    "                    3: 'None'\n",
    "                   }\n",
    "\n",
    "# Map the values in 'Employer_Paid' column using the mapping dictionary\n",
    "df_emp_paid['Employer_Paid'] = df_emp_paid['Employer_Paid'].map(emp_paid_mapping)"
   ]
  },
  {
   "cell_type": "code",
   "execution_count": 76,
   "id": "7b81be1f",
   "metadata": {
    "scrolled": true
   },
   "outputs": [
    {
     "data": {
      "text/html": [
       "<div>\n",
       "<style scoped>\n",
       "    .dataframe tbody tr th:only-of-type {\n",
       "        vertical-align: middle;\n",
       "    }\n",
       "\n",
       "    .dataframe tbody tr th {\n",
       "        vertical-align: top;\n",
       "    }\n",
       "\n",
       "    .dataframe thead th {\n",
       "        text-align: right;\n",
       "    }\n",
       "</style>\n",
       "<table border=\"1\" class=\"dataframe\">\n",
       "  <thead>\n",
       "    <tr style=\"text-align: right;\">\n",
       "      <th></th>\n",
       "      <th>Household_ID</th>\n",
       "      <th>Per_ID_WithinHH</th>\n",
       "      <th>Employer_Paid</th>\n",
       "    </tr>\n",
       "  </thead>\n",
       "  <tbody>\n",
       "    <tr>\n",
       "      <th>0</th>\n",
       "      <td>1</td>\n",
       "      <td>41</td>\n",
       "      <td>niu</td>\n",
       "    </tr>\n",
       "    <tr>\n",
       "      <th>1</th>\n",
       "      <td>5</td>\n",
       "      <td>41</td>\n",
       "      <td>niu</td>\n",
       "    </tr>\n",
       "    <tr>\n",
       "      <th>2</th>\n",
       "      <td>5</td>\n",
       "      <td>42</td>\n",
       "      <td>Some</td>\n",
       "    </tr>\n",
       "    <tr>\n",
       "      <th>3</th>\n",
       "      <td>6</td>\n",
       "      <td>41</td>\n",
       "      <td>niu</td>\n",
       "    </tr>\n",
       "    <tr>\n",
       "      <th>4</th>\n",
       "      <td>6</td>\n",
       "      <td>42</td>\n",
       "      <td>niu</td>\n",
       "    </tr>\n",
       "  </tbody>\n",
       "</table>\n",
       "</div>"
      ],
      "text/plain": [
       "   Household_ID  Per_ID_WithinHH Employer_Paid\n",
       "0             1               41           niu\n",
       "1             5               41           niu\n",
       "2             5               42          Some\n",
       "3             6               41           niu\n",
       "4             6               42           niu"
      ]
     },
     "execution_count": 76,
     "metadata": {},
     "output_type": "execute_result"
    }
   ],
   "source": [
    "df_emp_paid.head()"
   ]
  },
  {
   "cell_type": "markdown",
   "id": "d7dcb77c",
   "metadata": {},
   "source": [
    "### Join df_emp_paid 'Employer_Paid' column to df_ph dataframe"
   ]
  },
  {
   "cell_type": "code",
   "execution_count": 77,
   "id": "85ddc531",
   "metadata": {},
   "outputs": [],
   "source": [
    "# Convert numerical columns to strings\n",
    "df_emp_paid['Household_ID'] = df_emp_paid['Household_ID'].astype(str)\n",
    "df_emp_paid['Per_ID_WithinHH'] = df_emp_paid['Per_ID_WithinHH'].astype(str)\n",
    "\n",
    "# Create the 'PerH_ID' column by concatenating 'Household_ID' and 'Per_ID_WithinHH'\n",
    "df_emp_paid['PerH_ID'] = df_emp_paid['Household_ID'] + '_' + df_emp_paid['Per_ID_WithinHH']"
   ]
  },
  {
   "cell_type": "code",
   "execution_count": 78,
   "id": "d5c2b0a3",
   "metadata": {
    "scrolled": true
   },
   "outputs": [
    {
     "data": {
      "text/html": [
       "<div>\n",
       "<style scoped>\n",
       "    .dataframe tbody tr th:only-of-type {\n",
       "        vertical-align: middle;\n",
       "    }\n",
       "\n",
       "    .dataframe tbody tr th {\n",
       "        vertical-align: top;\n",
       "    }\n",
       "\n",
       "    .dataframe thead th {\n",
       "        text-align: right;\n",
       "    }\n",
       "</style>\n",
       "<table border=\"1\" class=\"dataframe\">\n",
       "  <thead>\n",
       "    <tr style=\"text-align: right;\">\n",
       "      <th></th>\n",
       "      <th>Household_ID</th>\n",
       "      <th>Per_ID_WithinHH</th>\n",
       "      <th>Employer_Paid</th>\n",
       "      <th>PerH_ID</th>\n",
       "    </tr>\n",
       "  </thead>\n",
       "  <tbody>\n",
       "    <tr>\n",
       "      <th>0</th>\n",
       "      <td>1</td>\n",
       "      <td>41</td>\n",
       "      <td>niu</td>\n",
       "      <td>1_41</td>\n",
       "    </tr>\n",
       "    <tr>\n",
       "      <th>1</th>\n",
       "      <td>5</td>\n",
       "      <td>41</td>\n",
       "      <td>niu</td>\n",
       "      <td>5_41</td>\n",
       "    </tr>\n",
       "    <tr>\n",
       "      <th>2</th>\n",
       "      <td>5</td>\n",
       "      <td>42</td>\n",
       "      <td>Some</td>\n",
       "      <td>5_42</td>\n",
       "    </tr>\n",
       "    <tr>\n",
       "      <th>3</th>\n",
       "      <td>6</td>\n",
       "      <td>41</td>\n",
       "      <td>niu</td>\n",
       "      <td>6_41</td>\n",
       "    </tr>\n",
       "    <tr>\n",
       "      <th>4</th>\n",
       "      <td>6</td>\n",
       "      <td>42</td>\n",
       "      <td>niu</td>\n",
       "      <td>6_42</td>\n",
       "    </tr>\n",
       "  </tbody>\n",
       "</table>\n",
       "</div>"
      ],
      "text/plain": [
       "  Household_ID Per_ID_WithinHH Employer_Paid PerH_ID\n",
       "0            1              41           niu    1_41\n",
       "1            5              41           niu    5_41\n",
       "2            5              42          Some    5_42\n",
       "3            6              41           niu    6_41\n",
       "4            6              42           niu    6_42"
      ]
     },
     "execution_count": 78,
     "metadata": {},
     "output_type": "execute_result"
    }
   ],
   "source": [
    "df_emp_paid.head()"
   ]
  },
  {
   "cell_type": "code",
   "execution_count": 79,
   "id": "2bd1f002",
   "metadata": {},
   "outputs": [],
   "source": [
    "df_emp_paid = df_emp_paid[['PerH_ID', 'Employer_Paid']]"
   ]
  },
  {
   "cell_type": "code",
   "execution_count": 80,
   "id": "955e09fc",
   "metadata": {
    "scrolled": true
   },
   "outputs": [
    {
     "data": {
      "text/html": [
       "<div>\n",
       "<style scoped>\n",
       "    .dataframe tbody tr th:only-of-type {\n",
       "        vertical-align: middle;\n",
       "    }\n",
       "\n",
       "    .dataframe tbody tr th {\n",
       "        vertical-align: top;\n",
       "    }\n",
       "\n",
       "    .dataframe thead th {\n",
       "        text-align: right;\n",
       "    }\n",
       "</style>\n",
       "<table border=\"1\" class=\"dataframe\">\n",
       "  <thead>\n",
       "    <tr style=\"text-align: right;\">\n",
       "      <th></th>\n",
       "      <th>PerH_ID</th>\n",
       "      <th>Employer_Paid</th>\n",
       "    </tr>\n",
       "  </thead>\n",
       "  <tbody>\n",
       "    <tr>\n",
       "      <th>0</th>\n",
       "      <td>1_41</td>\n",
       "      <td>niu</td>\n",
       "    </tr>\n",
       "    <tr>\n",
       "      <th>1</th>\n",
       "      <td>5_41</td>\n",
       "      <td>niu</td>\n",
       "    </tr>\n",
       "    <tr>\n",
       "      <th>2</th>\n",
       "      <td>5_42</td>\n",
       "      <td>Some</td>\n",
       "    </tr>\n",
       "    <tr>\n",
       "      <th>3</th>\n",
       "      <td>6_41</td>\n",
       "      <td>niu</td>\n",
       "    </tr>\n",
       "    <tr>\n",
       "      <th>4</th>\n",
       "      <td>6_42</td>\n",
       "      <td>niu</td>\n",
       "    </tr>\n",
       "  </tbody>\n",
       "</table>\n",
       "</div>"
      ],
      "text/plain": [
       "  PerH_ID Employer_Paid\n",
       "0    1_41           niu\n",
       "1    5_41           niu\n",
       "2    5_42          Some\n",
       "3    6_41           niu\n",
       "4    6_42           niu"
      ]
     },
     "execution_count": 80,
     "metadata": {},
     "output_type": "execute_result"
    }
   ],
   "source": [
    "df_emp_paid.head()"
   ]
  },
  {
   "cell_type": "code",
   "execution_count": 96,
   "id": "ca80c6f0",
   "metadata": {
    "scrolled": true
   },
   "outputs": [],
   "source": [
    "merged_df = df_ph.merge(df_emp_paid[['PerH_ID', 'Employer_Paid']], on='PerH_ID', how='left')"
   ]
  },
  {
   "cell_type": "code",
   "execution_count": 97,
   "id": "581604b3",
   "metadata": {
    "scrolled": true
   },
   "outputs": [],
   "source": [
    "df_ph = merged_df"
   ]
  },
  {
   "cell_type": "code",
   "execution_count": 82,
   "id": "51a81f40",
   "metadata": {
    "scrolled": true
   },
   "outputs": [
    {
     "data": {
      "text/plain": [
       "0    1\n",
       "1    1\n",
       "2    2\n",
       "3    1\n",
       "4    2\n",
       "Name: Sex, dtype: int64"
      ]
     },
     "execution_count": 82,
     "metadata": {},
     "output_type": "execute_result"
    }
   ],
   "source": [
    "df_ph['Sex'].head()"
   ]
  },
  {
   "cell_type": "markdown",
   "id": "723073bb",
   "metadata": {},
   "source": [
    "## 7. Sex "
   ]
  },
  {
   "cell_type": "code",
   "execution_count": 85,
   "id": "efb1e808",
   "metadata": {},
   "outputs": [],
   "source": [
    "# Change 'Sex' values to m/f\n",
    "df_ph['Sex'] = df_ph['Sex'].replace({1: 'Male', 2: 'Female'})"
   ]
  },
  {
   "cell_type": "code",
   "execution_count": 86,
   "id": "d9809e8e",
   "metadata": {
    "scrolled": true
   },
   "outputs": [
    {
     "data": {
      "text/plain": [
       "Female    78082\n",
       "Male      74650\n",
       "Name: Sex, dtype: int64"
      ]
     },
     "execution_count": 86,
     "metadata": {},
     "output_type": "execute_result"
    }
   ],
   "source": [
    "df_ph['Sex'].value_counts()"
   ]
  },
  {
   "cell_type": "markdown",
   "id": "7edf21b1",
   "metadata": {},
   "source": [
    "## 8. Age"
   ]
  },
  {
   "cell_type": "code",
   "execution_count": 87,
   "id": "c8b91a37",
   "metadata": {
    "scrolled": true
   },
   "outputs": [
    {
     "data": {
      "text/plain": [
       "80    2921\n",
       "85    2534\n",
       "14    2398\n",
       "15    2386\n",
       "13    2352\n",
       "      ... \n",
       "75    1164\n",
       "77     927\n",
       "78     893\n",
       "76     887\n",
       "79     755\n",
       "Name: Age, Length: 82, dtype: int64"
      ]
     },
     "execution_count": 87,
     "metadata": {},
     "output_type": "execute_result"
    }
   ],
   "source": [
    "df_ph['Age'].value_counts()"
   ]
  },
  {
   "cell_type": "markdown",
   "id": "22c03231",
   "metadata": {},
   "source": [
    "## 9. Race\n",
    "**not clear how to use the data set**\n",
    "The 'race' categories in the ASEC data are numerous and complex. It's not clear to me exactly which categories to combine. This is a sesitive area and I would prefer to consult with others who are experienced with this data before wrangling and messing this up. For the sake of this initial enquiry, leave Race. But, return to this topic."
   ]
  },
  {
   "cell_type": "markdown",
   "id": "9ef46cd7",
   "metadata": {},
   "source": [
    "## 10. Location (state)"
   ]
  },
  {
   "cell_type": "code",
   "execution_count": 88,
   "id": "fe3574b0",
   "metadata": {
    "scrolled": true
   },
   "outputs": [
    {
     "data": {
      "text/plain": [
       "California              14822\n",
       "Texas                    9470\n",
       "Florida                  7218\n",
       "New York                 5703\n",
       "Illinois                 4207\n",
       "Pennsylvania             3818\n",
       "Louisiana                3535\n",
       "North Carolina           3497\n",
       "Michigan                 3338\n",
       "Georgia                  3337\n",
       "Massachusetts            3314\n",
       "Ohio                     3275\n",
       "Alabama                  3203\n",
       "Virginia                 3065\n",
       "Utah                     2992\n",
       "New Mexico               2842\n",
       "Washington               2817\n",
       "Arkansas                 2802\n",
       "New Jersey               2775\n",
       "Idaho                    2748\n",
       "Hawaii                   2714\n",
       "Mississippi              2690\n",
       "Tennessee                2637\n",
       "West Virginia            2635\n",
       "South Carolina           2510\n",
       "Arizona                  2499\n",
       "Oklahoma                 2425\n",
       "Indiana                  2390\n",
       "Oregon                   2382\n",
       "Montana                  2350\n",
       "North Dakota             2244\n",
       "District of Columbia     2229\n",
       "Wyoming                  2199\n",
       "Colorado                 2174\n",
       "Missouri                 2137\n",
       "Nevada                   2125\n",
       "Wisconsin                1996\n",
       "Minnesota                1968\n",
       "Maryland                 1881\n",
       "Delaware                 1858\n",
       "Kansas                   1834\n",
       "Nebraska                 1822\n",
       "Kentucky                 1814\n",
       "Alaska                   1796\n",
       "New Hampshire            1764\n",
       "Iowa                     1732\n",
       "South Dakota             1729\n",
       "Vermont                  1658\n",
       "Connecticut              1458\n",
       "Rhode Island             1299\n",
       "Maine                    1005\n",
       "Name: State_Name, dtype: int64"
      ]
     },
     "execution_count": 88,
     "metadata": {},
     "output_type": "execute_result"
    }
   ],
   "source": [
    "df_ph['State_Name'].value_counts()"
   ]
  },
  {
   "cell_type": "markdown",
   "id": "fe6bbe7d",
   "metadata": {},
   "source": [
    "## 11. Insurance Coverage"
   ]
  },
  {
   "cell_type": "code",
   "execution_count": 89,
   "id": "2b26e6dd",
   "metadata": {
    "scrolled": true
   },
   "outputs": [],
   "source": [
    "# Change 'Current_Coverage' values to m/f\n",
    "df_ph['Current_Coverage'] = df_ph['Current_Coverage'].replace({1: 'yes', 2: 'no'})"
   ]
  },
  {
   "cell_type": "code",
   "execution_count": 90,
   "id": "4f444bed",
   "metadata": {},
   "outputs": [
    {
     "data": {
      "text/html": [
       "<div>\n",
       "<style scoped>\n",
       "    .dataframe tbody tr th:only-of-type {\n",
       "        vertical-align: middle;\n",
       "    }\n",
       "\n",
       "    .dataframe tbody tr th {\n",
       "        vertical-align: top;\n",
       "    }\n",
       "\n",
       "    .dataframe thead th {\n",
       "        text-align: right;\n",
       "    }\n",
       "</style>\n",
       "<table border=\"1\" class=\"dataframe\">\n",
       "  <thead>\n",
       "    <tr style=\"text-align: right;\">\n",
       "      <th></th>\n",
       "      <th>Person_ID</th>\n",
       "      <th>Household_ID</th>\n",
       "      <th>Per_ID_WithinHH</th>\n",
       "      <th>Age</th>\n",
       "      <th>Sex</th>\n",
       "      <th>Race</th>\n",
       "      <th>Emp</th>\n",
       "      <th>Emp_Type</th>\n",
       "      <th>Emp_Type_recode</th>\n",
       "      <th>Retirement_Ann</th>\n",
       "      <th>...</th>\n",
       "      <th>State_Name</th>\n",
       "      <th>Met_Code</th>\n",
       "      <th>City_Size</th>\n",
       "      <th>County_Code</th>\n",
       "      <th>City_Code</th>\n",
       "      <th>Current_Coverage</th>\n",
       "      <th>MOOP_tot</th>\n",
       "      <th>Out_of_Pocket</th>\n",
       "      <th>Pct_Inc_oop</th>\n",
       "      <th>Insurance_Type</th>\n",
       "    </tr>\n",
       "  </thead>\n",
       "  <tbody>\n",
       "    <tr>\n",
       "      <th>0</th>\n",
       "      <td>2022093493100051201101</td>\n",
       "      <td>1</td>\n",
       "      <td>41</td>\n",
       "      <td>42</td>\n",
       "      <td>Male</td>\n",
       "      <td>1</td>\n",
       "      <td>1</td>\n",
       "      <td>private</td>\n",
       "      <td>4</td>\n",
       "      <td>0</td>\n",
       "      <td>...</td>\n",
       "      <td>Maine</td>\n",
       "      <td>0</td>\n",
       "      <td>0</td>\n",
       "      <td>0</td>\n",
       "      <td>0</td>\n",
       "      <td>yes</td>\n",
       "      <td>3840</td>\n",
       "      <td>3840</td>\n",
       "      <td>8.7</td>\n",
       "      <td>Marketplace</td>\n",
       "    </tr>\n",
       "    <tr>\n",
       "      <th>1</th>\n",
       "      <td>2100059324402431401101</td>\n",
       "      <td>5</td>\n",
       "      <td>41</td>\n",
       "      <td>62</td>\n",
       "      <td>Male</td>\n",
       "      <td>1</td>\n",
       "      <td>1</td>\n",
       "      <td>SE</td>\n",
       "      <td>5</td>\n",
       "      <td>0</td>\n",
       "      <td>...</td>\n",
       "      <td>Maine</td>\n",
       "      <td>0</td>\n",
       "      <td>0</td>\n",
       "      <td>0</td>\n",
       "      <td>0</td>\n",
       "      <td>yes</td>\n",
       "      <td>568</td>\n",
       "      <td>568</td>\n",
       "      <td>1.7</td>\n",
       "      <td>Employment</td>\n",
       "    </tr>\n",
       "    <tr>\n",
       "      <th>2</th>\n",
       "      <td>2100059324402431401102</td>\n",
       "      <td>5</td>\n",
       "      <td>42</td>\n",
       "      <td>64</td>\n",
       "      <td>Female</td>\n",
       "      <td>1</td>\n",
       "      <td>2</td>\n",
       "      <td>gov_state</td>\n",
       "      <td>2</td>\n",
       "      <td>0</td>\n",
       "      <td>...</td>\n",
       "      <td>Maine</td>\n",
       "      <td>0</td>\n",
       "      <td>0</td>\n",
       "      <td>0</td>\n",
       "      <td>0</td>\n",
       "      <td>yes</td>\n",
       "      <td>1300</td>\n",
       "      <td>1300</td>\n",
       "      <td>2.6</td>\n",
       "      <td>Employment</td>\n",
       "    </tr>\n",
       "    <tr>\n",
       "      <th>3</th>\n",
       "      <td>1410320300869091411101</td>\n",
       "      <td>6</td>\n",
       "      <td>41</td>\n",
       "      <td>26</td>\n",
       "      <td>Male</td>\n",
       "      <td>1</td>\n",
       "      <td>1</td>\n",
       "      <td>private</td>\n",
       "      <td>4</td>\n",
       "      <td>0</td>\n",
       "      <td>...</td>\n",
       "      <td>Maine</td>\n",
       "      <td>0</td>\n",
       "      <td>0</td>\n",
       "      <td>0</td>\n",
       "      <td>0</td>\n",
       "      <td>no</td>\n",
       "      <td>100</td>\n",
       "      <td>100</td>\n",
       "      <td>0.2</td>\n",
       "      <td>Unknown</td>\n",
       "    </tr>\n",
       "    <tr>\n",
       "      <th>4</th>\n",
       "      <td>1410320300869091411102</td>\n",
       "      <td>6</td>\n",
       "      <td>42</td>\n",
       "      <td>24</td>\n",
       "      <td>Female</td>\n",
       "      <td>3</td>\n",
       "      <td>2</td>\n",
       "      <td>private</td>\n",
       "      <td>4</td>\n",
       "      <td>0</td>\n",
       "      <td>...</td>\n",
       "      <td>Maine</td>\n",
       "      <td>0</td>\n",
       "      <td>0</td>\n",
       "      <td>0</td>\n",
       "      <td>0</td>\n",
       "      <td>no</td>\n",
       "      <td>1400</td>\n",
       "      <td>1400</td>\n",
       "      <td>7.0</td>\n",
       "      <td>Indian_HS</td>\n",
       "    </tr>\n",
       "  </tbody>\n",
       "</table>\n",
       "<p>5 rows × 38 columns</p>\n",
       "</div>"
      ],
      "text/plain": [
       "                Person_ID  Household_ID  Per_ID_WithinHH  Age     Sex  Race  \\\n",
       "0  2022093493100051201101             1               41   42    Male     1   \n",
       "1  2100059324402431401101             5               41   62    Male     1   \n",
       "2  2100059324402431401102             5               42   64  Female     1   \n",
       "3  1410320300869091411101             6               41   26    Male     1   \n",
       "4  1410320300869091411102             6               42   24  Female     3   \n",
       "\n",
       "   Emp   Emp_Type  Emp_Type_recode  Retirement_Ann  ...  State_Name  Met_Code  \\\n",
       "0    1    private                4               0  ...       Maine         0   \n",
       "1    1         SE                5               0  ...       Maine         0   \n",
       "2    2  gov_state                2               0  ...       Maine         0   \n",
       "3    1    private                4               0  ...       Maine         0   \n",
       "4    2    private                4               0  ...       Maine         0   \n",
       "\n",
       "   City_Size  County_Code  City_Code  Current_Coverage  MOOP_tot  \\\n",
       "0          0            0          0               yes      3840   \n",
       "1          0            0          0               yes       568   \n",
       "2          0            0          0               yes      1300   \n",
       "3          0            0          0                no       100   \n",
       "4          0            0          0                no      1400   \n",
       "\n",
       "   Out_of_Pocket  Pct_Inc_oop  Insurance_Type  \n",
       "0           3840          8.7     Marketplace  \n",
       "1            568          1.7      Employment  \n",
       "2           1300          2.6      Employment  \n",
       "3            100          0.2         Unknown  \n",
       "4           1400          7.0       Indian_HS  \n",
       "\n",
       "[5 rows x 38 columns]"
      ]
     },
     "execution_count": 90,
     "metadata": {},
     "output_type": "execute_result"
    }
   ],
   "source": [
    "df_ph.head()"
   ]
  },
  {
   "cell_type": "markdown",
   "id": "ae4a660a",
   "metadata": {},
   "source": [
    "# Export csv for analysis"
   ]
  },
  {
   "cell_type": "markdown",
   "id": "c448763e",
   "metadata": {},
   "source": [
    "### Create new column for combined HH and Person ID 'PerH_ID'"
   ]
  },
  {
   "cell_type": "code",
   "execution_count": 91,
   "id": "a1a92cce",
   "metadata": {},
   "outputs": [],
   "source": [
    "# Convert numerical columns to strings\n",
    "df_ph['Household_ID'] = df_ph['Household_ID'].astype(str)\n",
    "df_ph['Per_ID_WithinHH'] = df_ph['Per_ID_WithinHH'].astype(str)\n",
    "\n",
    "# Create the 'PerH_ID' column by concatenating 'Household_ID' and 'Per_ID_WithinHH'\n",
    "df_ph['PerH_ID'] = df_ph['Household_ID'] + '_' + df_ph['Per_ID_WithinHH']"
   ]
  },
  {
   "cell_type": "markdown",
   "id": "158071b0",
   "metadata": {},
   "source": [
    "### Create a new column for 'Insurance Premium' (non-medicare)\n",
    "- MOOP - sum('Non_Premium_OutOfPocket' + 'OverTheCounter_Exp')"
   ]
  },
  {
   "cell_type": "code",
   "execution_count": 92,
   "id": "4876e989",
   "metadata": {},
   "outputs": [],
   "source": [
    "# Calculate the sum of 'Non_Premium_OutOfPocket' and 'OverTheCounter_Exp'\n",
    "df_ph['Sum_Non_Premium_OverTheCounter'] = df_ph['Non_Premium_OutOfPocket'] + df_ph['OverTheCounter_Exp']\n",
    "\n",
    "# Calculate the 'Premium' column by subtracting 'Sum_Non_Premium_OverTheCounter' from 'MOOP'\n",
    "df_ph['Premium'] = df_ph['MOOP_tot'] - df_ph['Sum_Non_Premium_OverTheCounter']"
   ]
  },
  {
   "cell_type": "code",
   "execution_count": 93,
   "id": "20a86975",
   "metadata": {
    "scrolled": false
   },
   "outputs": [
    {
     "data": {
      "text/html": [
       "<div>\n",
       "<style scoped>\n",
       "    .dataframe tbody tr th:only-of-type {\n",
       "        vertical-align: middle;\n",
       "    }\n",
       "\n",
       "    .dataframe tbody tr th {\n",
       "        vertical-align: top;\n",
       "    }\n",
       "\n",
       "    .dataframe thead th {\n",
       "        text-align: right;\n",
       "    }\n",
       "</style>\n",
       "<table border=\"1\" class=\"dataframe\">\n",
       "  <thead>\n",
       "    <tr style=\"text-align: right;\">\n",
       "      <th></th>\n",
       "      <th>Person_ID</th>\n",
       "      <th>Household_ID</th>\n",
       "      <th>Per_ID_WithinHH</th>\n",
       "      <th>Age</th>\n",
       "      <th>Sex</th>\n",
       "      <th>Race</th>\n",
       "      <th>Emp</th>\n",
       "      <th>Emp_Type</th>\n",
       "      <th>Emp_Type_recode</th>\n",
       "      <th>Retirement_Ann</th>\n",
       "      <th>...</th>\n",
       "      <th>County_Code</th>\n",
       "      <th>City_Code</th>\n",
       "      <th>Current_Coverage</th>\n",
       "      <th>MOOP_tot</th>\n",
       "      <th>Out_of_Pocket</th>\n",
       "      <th>Pct_Inc_oop</th>\n",
       "      <th>Insurance_Type</th>\n",
       "      <th>PerH_ID</th>\n",
       "      <th>Sum_Non_Premium_OverTheCounter</th>\n",
       "      <th>Premium</th>\n",
       "    </tr>\n",
       "  </thead>\n",
       "  <tbody>\n",
       "    <tr>\n",
       "      <th>0</th>\n",
       "      <td>2022093493100051201101</td>\n",
       "      <td>1</td>\n",
       "      <td>41</td>\n",
       "      <td>42</td>\n",
       "      <td>Male</td>\n",
       "      <td>1</td>\n",
       "      <td>1</td>\n",
       "      <td>private</td>\n",
       "      <td>4</td>\n",
       "      <td>0</td>\n",
       "      <td>...</td>\n",
       "      <td>0</td>\n",
       "      <td>0</td>\n",
       "      <td>yes</td>\n",
       "      <td>3840</td>\n",
       "      <td>3840</td>\n",
       "      <td>8.7</td>\n",
       "      <td>Marketplace</td>\n",
       "      <td>1_41</td>\n",
       "      <td>0</td>\n",
       "      <td>3840</td>\n",
       "    </tr>\n",
       "    <tr>\n",
       "      <th>1</th>\n",
       "      <td>2100059324402431401101</td>\n",
       "      <td>5</td>\n",
       "      <td>41</td>\n",
       "      <td>62</td>\n",
       "      <td>Male</td>\n",
       "      <td>1</td>\n",
       "      <td>1</td>\n",
       "      <td>SE</td>\n",
       "      <td>5</td>\n",
       "      <td>0</td>\n",
       "      <td>...</td>\n",
       "      <td>0</td>\n",
       "      <td>0</td>\n",
       "      <td>yes</td>\n",
       "      <td>568</td>\n",
       "      <td>568</td>\n",
       "      <td>1.7</td>\n",
       "      <td>Employment</td>\n",
       "      <td>5_41</td>\n",
       "      <td>368</td>\n",
       "      <td>200</td>\n",
       "    </tr>\n",
       "    <tr>\n",
       "      <th>2</th>\n",
       "      <td>2100059324402431401102</td>\n",
       "      <td>5</td>\n",
       "      <td>42</td>\n",
       "      <td>64</td>\n",
       "      <td>Female</td>\n",
       "      <td>1</td>\n",
       "      <td>2</td>\n",
       "      <td>gov_state</td>\n",
       "      <td>2</td>\n",
       "      <td>0</td>\n",
       "      <td>...</td>\n",
       "      <td>0</td>\n",
       "      <td>0</td>\n",
       "      <td>yes</td>\n",
       "      <td>1300</td>\n",
       "      <td>1300</td>\n",
       "      <td>2.6</td>\n",
       "      <td>Employment</td>\n",
       "      <td>5_42</td>\n",
       "      <td>100</td>\n",
       "      <td>1200</td>\n",
       "    </tr>\n",
       "    <tr>\n",
       "      <th>3</th>\n",
       "      <td>1410320300869091411101</td>\n",
       "      <td>6</td>\n",
       "      <td>41</td>\n",
       "      <td>26</td>\n",
       "      <td>Male</td>\n",
       "      <td>1</td>\n",
       "      <td>1</td>\n",
       "      <td>private</td>\n",
       "      <td>4</td>\n",
       "      <td>0</td>\n",
       "      <td>...</td>\n",
       "      <td>0</td>\n",
       "      <td>0</td>\n",
       "      <td>no</td>\n",
       "      <td>100</td>\n",
       "      <td>100</td>\n",
       "      <td>0.2</td>\n",
       "      <td>Unknown</td>\n",
       "      <td>6_41</td>\n",
       "      <td>100</td>\n",
       "      <td>0</td>\n",
       "    </tr>\n",
       "    <tr>\n",
       "      <th>4</th>\n",
       "      <td>1410320300869091411102</td>\n",
       "      <td>6</td>\n",
       "      <td>42</td>\n",
       "      <td>24</td>\n",
       "      <td>Female</td>\n",
       "      <td>3</td>\n",
       "      <td>2</td>\n",
       "      <td>private</td>\n",
       "      <td>4</td>\n",
       "      <td>0</td>\n",
       "      <td>...</td>\n",
       "      <td>0</td>\n",
       "      <td>0</td>\n",
       "      <td>no</td>\n",
       "      <td>1400</td>\n",
       "      <td>1400</td>\n",
       "      <td>7.0</td>\n",
       "      <td>Indian_HS</td>\n",
       "      <td>6_42</td>\n",
       "      <td>400</td>\n",
       "      <td>1000</td>\n",
       "    </tr>\n",
       "  </tbody>\n",
       "</table>\n",
       "<p>5 rows × 41 columns</p>\n",
       "</div>"
      ],
      "text/plain": [
       "                Person_ID Household_ID Per_ID_WithinHH  Age     Sex  Race  \\\n",
       "0  2022093493100051201101            1              41   42    Male     1   \n",
       "1  2100059324402431401101            5              41   62    Male     1   \n",
       "2  2100059324402431401102            5              42   64  Female     1   \n",
       "3  1410320300869091411101            6              41   26    Male     1   \n",
       "4  1410320300869091411102            6              42   24  Female     3   \n",
       "\n",
       "   Emp   Emp_Type  Emp_Type_recode  Retirement_Ann  ...  County_Code  \\\n",
       "0    1    private                4               0  ...            0   \n",
       "1    1         SE                5               0  ...            0   \n",
       "2    2  gov_state                2               0  ...            0   \n",
       "3    1    private                4               0  ...            0   \n",
       "4    2    private                4               0  ...            0   \n",
       "\n",
       "   City_Code  Current_Coverage  MOOP_tot  Out_of_Pocket  Pct_Inc_oop  \\\n",
       "0          0               yes      3840           3840          8.7   \n",
       "1          0               yes       568            568          1.7   \n",
       "2          0               yes      1300           1300          2.6   \n",
       "3          0                no       100            100          0.2   \n",
       "4          0                no      1400           1400          7.0   \n",
       "\n",
       "   Insurance_Type  PerH_ID  Sum_Non_Premium_OverTheCounter  Premium  \n",
       "0     Marketplace     1_41                               0     3840  \n",
       "1      Employment     5_41                             368      200  \n",
       "2      Employment     5_42                             100     1200  \n",
       "3         Unknown     6_41                             100        0  \n",
       "4       Indian_HS     6_42                             400     1000  \n",
       "\n",
       "[5 rows x 41 columns]"
      ]
     },
     "execution_count": 93,
     "metadata": {},
     "output_type": "execute_result"
    }
   ],
   "source": [
    "df_ph.head()"
   ]
  },
  {
   "cell_type": "code",
   "execution_count": 94,
   "id": "35b3c1d0",
   "metadata": {},
   "outputs": [],
   "source": [
    "# Create new dataframe with relevant columns only\n",
    "\n",
    "columns_analysis = ['Person_ID',\n",
    "                    'Household_ID',\n",
    "                    'Per_ID_WithinHH',\n",
    "                    'PerH_ID',\n",
    "                    'Age',\n",
    "                    'Sex',\n",
    "                    #'Emp',\n",
    "                    'Emp_Type',\n",
    "                    #'Emp_Type_recode',\n",
    "                    #'Retirement_Ann',\n",
    "                    #'Retirement_Dist',\n",
    "                    #'Earnings_Net',\n",
    "                    #'SE_FARM_2nd',\n",
    "                    #'SE_FARM_Tot',\n",
    "                    #'Total_OutOfPocket_Med_Exp',\n",
    "                    #'Total_OutOfPocket_Med_Exp_2',\n",
    "                    'Medicare_Premium',\n",
    "                    'Premium',\n",
    "                    #'Ins_Premium',\n",
    "                    #'Ins_Premium_2',\n",
    "                    'Non_Premium_OutOfPocket',\n",
    "                    'OverTheCounter_Exp',\n",
    "                    'Tot_Per_Income',\n",
    "                    'Income_Bracket',\n",
    "                    #'SE_Tot',\n",
    "                    #'SE_2nd',\n",
    "                    #'Wages_Tot',\n",
    "                    #'Wages_Other',\n",
    "                    'Region',\n",
    "                    'State_Name',\n",
    "                    #'Met_Code',\n",
    "                    #'City_Size',\n",
    "                    #'County_Code',\n",
    "                    #'City_Code'\n",
    "                    'MOOP_tot',\n",
    "                    'Out_of_Pocket',\n",
    "                    'Pct_Inc_oop',\n",
    "                    'Current_Coverage',\n",
    "                    'Insurance_Type',\n",
    "                    'Employer_Paid'\n",
    "]\n"
   ]
  },
  {
   "cell_type": "code",
   "execution_count": 98,
   "id": "2cf52a31",
   "metadata": {
    "scrolled": true
   },
   "outputs": [],
   "source": [
    "# New dataframe with relevant columns:\n",
    "df = df_ph[columns_analysis].copy()"
   ]
  },
  {
   "cell_type": "code",
   "execution_count": 99,
   "id": "89f63694",
   "metadata": {
    "scrolled": false
   },
   "outputs": [
    {
     "data": {
      "text/html": [
       "<div>\n",
       "<style scoped>\n",
       "    .dataframe tbody tr th:only-of-type {\n",
       "        vertical-align: middle;\n",
       "    }\n",
       "\n",
       "    .dataframe tbody tr th {\n",
       "        vertical-align: top;\n",
       "    }\n",
       "\n",
       "    .dataframe thead th {\n",
       "        text-align: right;\n",
       "    }\n",
       "</style>\n",
       "<table border=\"1\" class=\"dataframe\">\n",
       "  <thead>\n",
       "    <tr style=\"text-align: right;\">\n",
       "      <th></th>\n",
       "      <th>Person_ID</th>\n",
       "      <th>Household_ID</th>\n",
       "      <th>Per_ID_WithinHH</th>\n",
       "      <th>PerH_ID</th>\n",
       "      <th>Age</th>\n",
       "      <th>Sex</th>\n",
       "      <th>Emp_Type</th>\n",
       "      <th>Medicare_Premium</th>\n",
       "      <th>Premium</th>\n",
       "      <th>Non_Premium_OutOfPocket</th>\n",
       "      <th>...</th>\n",
       "      <th>Tot_Per_Income</th>\n",
       "      <th>Income_Bracket</th>\n",
       "      <th>Region</th>\n",
       "      <th>State_Name</th>\n",
       "      <th>MOOP_tot</th>\n",
       "      <th>Out_of_Pocket</th>\n",
       "      <th>Pct_Inc_oop</th>\n",
       "      <th>Current_Coverage</th>\n",
       "      <th>Insurance_Type</th>\n",
       "      <th>Employer_Paid</th>\n",
       "    </tr>\n",
       "  </thead>\n",
       "  <tbody>\n",
       "    <tr>\n",
       "      <th>0</th>\n",
       "      <td>2022093493100051201101</td>\n",
       "      <td>1</td>\n",
       "      <td>41</td>\n",
       "      <td>1_41</td>\n",
       "      <td>42</td>\n",
       "      <td>Male</td>\n",
       "      <td>private</td>\n",
       "      <td>0</td>\n",
       "      <td>3840</td>\n",
       "      <td>0</td>\n",
       "      <td>...</td>\n",
       "      <td>44220</td>\n",
       "      <td>18</td>\n",
       "      <td>1</td>\n",
       "      <td>Maine</td>\n",
       "      <td>3840</td>\n",
       "      <td>3840</td>\n",
       "      <td>8.7</td>\n",
       "      <td>yes</td>\n",
       "      <td>Marketplace</td>\n",
       "      <td>niu</td>\n",
       "    </tr>\n",
       "    <tr>\n",
       "      <th>1</th>\n",
       "      <td>2100059324402431401101</td>\n",
       "      <td>5</td>\n",
       "      <td>41</td>\n",
       "      <td>5_41</td>\n",
       "      <td>62</td>\n",
       "      <td>Male</td>\n",
       "      <td>SE</td>\n",
       "      <td>0</td>\n",
       "      <td>200</td>\n",
       "      <td>320</td>\n",
       "      <td>...</td>\n",
       "      <td>32702</td>\n",
       "      <td>14</td>\n",
       "      <td>1</td>\n",
       "      <td>Maine</td>\n",
       "      <td>568</td>\n",
       "      <td>568</td>\n",
       "      <td>1.7</td>\n",
       "      <td>yes</td>\n",
       "      <td>Employment</td>\n",
       "      <td>niu</td>\n",
       "    </tr>\n",
       "    <tr>\n",
       "      <th>2</th>\n",
       "      <td>2100059324402431401102</td>\n",
       "      <td>5</td>\n",
       "      <td>42</td>\n",
       "      <td>5_42</td>\n",
       "      <td>64</td>\n",
       "      <td>Female</td>\n",
       "      <td>gov_state</td>\n",
       "      <td>0</td>\n",
       "      <td>1200</td>\n",
       "      <td>0</td>\n",
       "      <td>...</td>\n",
       "      <td>50050</td>\n",
       "      <td>21</td>\n",
       "      <td>1</td>\n",
       "      <td>Maine</td>\n",
       "      <td>1300</td>\n",
       "      <td>1300</td>\n",
       "      <td>2.6</td>\n",
       "      <td>yes</td>\n",
       "      <td>Employment</td>\n",
       "      <td>Some</td>\n",
       "    </tr>\n",
       "    <tr>\n",
       "      <th>3</th>\n",
       "      <td>1410320300869091411101</td>\n",
       "      <td>6</td>\n",
       "      <td>41</td>\n",
       "      <td>6_41</td>\n",
       "      <td>26</td>\n",
       "      <td>Male</td>\n",
       "      <td>private</td>\n",
       "      <td>0</td>\n",
       "      <td>0</td>\n",
       "      <td>0</td>\n",
       "      <td>...</td>\n",
       "      <td>40001</td>\n",
       "      <td>17</td>\n",
       "      <td>1</td>\n",
       "      <td>Maine</td>\n",
       "      <td>100</td>\n",
       "      <td>100</td>\n",
       "      <td>0.2</td>\n",
       "      <td>no</td>\n",
       "      <td>Unknown</td>\n",
       "      <td>niu</td>\n",
       "    </tr>\n",
       "    <tr>\n",
       "      <th>4</th>\n",
       "      <td>1410320300869091411102</td>\n",
       "      <td>6</td>\n",
       "      <td>42</td>\n",
       "      <td>6_42</td>\n",
       "      <td>24</td>\n",
       "      <td>Female</td>\n",
       "      <td>private</td>\n",
       "      <td>0</td>\n",
       "      <td>1000</td>\n",
       "      <td>300</td>\n",
       "      <td>...</td>\n",
       "      <td>20000</td>\n",
       "      <td>9</td>\n",
       "      <td>1</td>\n",
       "      <td>Maine</td>\n",
       "      <td>1400</td>\n",
       "      <td>1400</td>\n",
       "      <td>7.0</td>\n",
       "      <td>no</td>\n",
       "      <td>Indian_HS</td>\n",
       "      <td>niu</td>\n",
       "    </tr>\n",
       "  </tbody>\n",
       "</table>\n",
       "<p>5 rows × 21 columns</p>\n",
       "</div>"
      ],
      "text/plain": [
       "                Person_ID Household_ID Per_ID_WithinHH PerH_ID  Age     Sex  \\\n",
       "0  2022093493100051201101            1              41    1_41   42    Male   \n",
       "1  2100059324402431401101            5              41    5_41   62    Male   \n",
       "2  2100059324402431401102            5              42    5_42   64  Female   \n",
       "3  1410320300869091411101            6              41    6_41   26    Male   \n",
       "4  1410320300869091411102            6              42    6_42   24  Female   \n",
       "\n",
       "    Emp_Type  Medicare_Premium  Premium  Non_Premium_OutOfPocket  ...  \\\n",
       "0    private                 0     3840                        0  ...   \n",
       "1         SE                 0      200                      320  ...   \n",
       "2  gov_state                 0     1200                        0  ...   \n",
       "3    private                 0        0                        0  ...   \n",
       "4    private                 0     1000                      300  ...   \n",
       "\n",
       "   Tot_Per_Income  Income_Bracket  Region  State_Name MOOP_tot  Out_of_Pocket  \\\n",
       "0           44220              18       1       Maine     3840           3840   \n",
       "1           32702              14       1       Maine      568            568   \n",
       "2           50050              21       1       Maine     1300           1300   \n",
       "3           40001              17       1       Maine      100            100   \n",
       "4           20000               9       1       Maine     1400           1400   \n",
       "\n",
       "   Pct_Inc_oop  Current_Coverage Insurance_Type Employer_Paid  \n",
       "0          8.7               yes    Marketplace           niu  \n",
       "1          1.7               yes     Employment           niu  \n",
       "2          2.6               yes     Employment          Some  \n",
       "3          0.2                no        Unknown           niu  \n",
       "4          7.0                no      Indian_HS           niu  \n",
       "\n",
       "[5 rows x 21 columns]"
      ]
     },
     "execution_count": 99,
     "metadata": {},
     "output_type": "execute_result"
    }
   ],
   "source": [
    "df.head()"
   ]
  },
  {
   "cell_type": "code",
   "execution_count": 100,
   "id": "121ff678",
   "metadata": {},
   "outputs": [],
   "source": [
    "# Convert numerical columns to strings\n",
    "df['Household_ID'] = df['Household_ID'].astype(str)\n",
    "df['Per_ID_WithinHH'] = df['Per_ID_WithinHH'].astype(str)\n",
    "\n",
    "# Create the 'PerH_ID' column by concatenating 'Household_ID' and 'Per_ID_WithinHH'\n",
    "df['PerH_ID'] = df['Household_ID'] + '_' + df['Per_ID_WithinHH']"
   ]
  },
  {
   "cell_type": "code",
   "execution_count": null,
   "id": "a393ae1f",
   "metadata": {},
   "outputs": [],
   "source": [
    "# Export to csv\n",
    "df.to_csv(os.path.join(path,'02 Data','02b Prepared Data', 'asec_22_prep.csv'))\n"
   ]
  },
  {
   "cell_type": "markdown",
   "id": "b59a201a",
   "metadata": {},
   "source": [
    "## Income Percentiles\n",
    "\n",
    "The data set is slowing down Tableau's redering of the scatterplot. Review hiding the exteme outliers from the scatterplot by assessing the limits of 0.02% of the data missing (i.e. 'hidden' from the page)"
   ]
  },
  {
   "cell_type": "code",
   "execution_count": 111,
   "id": "ce4e39d8",
   "metadata": {},
   "outputs": [
    {
     "name": "stdout",
     "output_type": "stream",
     "text": [
      "Income level for 99.8% of the dataset: 729268.8700000008\n"
     ]
    }
   ],
   "source": [
    "# Calculate the income amount for a specific percentile (e.g., 95%)\n",
    "percentile_value = 99.8\n",
    "income_cutoff = df['Tot_Per_Income'].quantile(percentile_value / 100)\n",
    "\n",
    "print(f\"Income level for {percentile_value}% of the dataset: {income_cutoff}\")"
   ]
  },
  {
   "cell_type": "code",
   "execution_count": 115,
   "id": "39400139",
   "metadata": {},
   "outputs": [
    {
     "name": "stdout",
     "output_type": "stream",
     "text": [
      "Out of pocket costs for 99.8% of the dataset: 42453.80000000005\n"
     ]
    }
   ],
   "source": [
    "# Calculate the oop cost for a specific percentile (e.g., 95%)\n",
    "percentile_value = 99.8\n",
    "\n",
    "income_cutoff = df['Out_of_Pocket'].quantile(percentile_value / 100)\n",
    "\n",
    "print(f\"Out of pocket costs for {percentile_value}% of the dataset: {income_cutoff}\")"
   ]
  },
  {
   "cell_type": "code",
   "execution_count": 123,
   "id": "71d27717",
   "metadata": {
    "scrolled": true
   },
   "outputs": [
    {
     "name": "stdout",
     "output_type": "stream",
     "text": [
      "Income level for 80% of the dataset: 62032.0\n"
     ]
    }
   ],
   "source": [
    "# Calculate the income amount for a specific percentile (e.g., 95%)\n",
    "percentile_value = 80\n",
    "income_cutoff = df['Tot_Per_Income'].quantile(percentile_value / 100)\n",
    "\n",
    "print(f\"Income level for {percentile_value}% of the dataset: {income_cutoff}\")"
   ]
  },
  {
   "cell_type": "markdown",
   "id": "e7e47ff3",
   "metadata": {},
   "source": [
    "**Decision**\n",
    "hide the top 0.02% of income and top 0.02% of out-of-pocket expenditure from the scatter plot. "
   ]
  }
 ],
 "metadata": {
  "kernelspec": {
   "display_name": "Python 3 (ipykernel)",
   "language": "python",
   "name": "python3"
  },
  "language_info": {
   "codemirror_mode": {
    "name": "ipython",
    "version": 3
   },
   "file_extension": ".py",
   "mimetype": "text/x-python",
   "name": "python",
   "nbconvert_exporter": "python",
   "pygments_lexer": "ipython3",
   "version": "3.9.13"
  }
 },
 "nbformat": 4,
 "nbformat_minor": 5
}
