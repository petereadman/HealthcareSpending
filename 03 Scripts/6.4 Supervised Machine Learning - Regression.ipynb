{
 "cells": [
  {
   "cell_type": "markdown",
   "id": "38da2ac8",
   "metadata": {},
   "source": [
    "# Supervised Machine Learning: Regression"
   ]
  },
  {
   "cell_type": "markdown",
   "id": "e20b4e2f",
   "metadata": {},
   "source": [
    "### This script contains the following:\n",
    "\n",
    "#### 1. Importing libraries and data\n",
    "#### 2. Data cleaning\n",
    "#### 3. Data prep for regression analysis\n",
    "#### 4. Regression analysis\n",
    "#### Bonus: performance improvement after removing outliers"
   ]
  },
  {
   "cell_type": "markdown",
   "id": "191e5bea",
   "metadata": {},
   "source": [
    "## 1. Importing libraries and data"
   ]
  },
  {
   "cell_type": "code",
   "execution_count": 1,
   "id": "dc78876f",
   "metadata": {},
   "outputs": [],
   "source": [
    "import pandas as pd\n",
    "import numpy as np\n",
    "import seaborn as sns\n",
    "import matplotlib\n",
    "import matplotlib.pyplot as plt\n",
    "import os\n",
    "import sklearn\n",
    "from sklearn.model_selection import train_test_split \n",
    "from sklearn.linear_model import LinearRegression\n",
    "from sklearn.metrics import mean_squared_error, r2_score"
   ]
  },
  {
   "cell_type": "code",
   "execution_count": 4,
   "id": "bba6585a",
   "metadata": {},
   "outputs": [],
   "source": [
    "# Display plots inline\n",
    "%matplotlib inline"
   ]
  },
  {
   "cell_type": "code",
   "execution_count": 5,
   "id": "634bfec8",
   "metadata": {},
   "outputs": [],
   "source": [
    "# Turn project folder path into a string\n",
    "path = r'/Users/peterreadman/Desktop/Python Projects/PortfolioProjects/HealthcareSpending/'"
   ]
  },
  {
   "cell_type": "code",
   "execution_count": 31,
   "id": "f6d8e16f",
   "metadata": {},
   "outputs": [],
   "source": [
    "# import data\n",
    "\n",
    "household_df = pd.read_csv(os.path.join(path,'02 Data','02a Original Data','HealthInsurance_Income.csv'))\n",
    "person_df = pd.read_csv(os.path.join(path,'02 Data','02a Original Data','Per_Med_Expenses.csv'))"
   ]
  },
  {
   "cell_type": "markdown",
   "id": "93637593",
   "metadata": {},
   "source": [
    "### 2. Data Cleaning "
   ]
  },
  {
   "cell_type": "code",
   "execution_count": 32,
   "id": "3c0967a0",
   "metadata": {
    "scrolled": false
   },
   "outputs": [
    {
     "data": {
      "text/html": [
       "<div>\n",
       "<style scoped>\n",
       "    .dataframe tbody tr th:only-of-type {\n",
       "        vertical-align: middle;\n",
       "    }\n",
       "\n",
       "    .dataframe tbody tr th {\n",
       "        vertical-align: top;\n",
       "    }\n",
       "\n",
       "    .dataframe thead th {\n",
       "        text-align: right;\n",
       "    }\n",
       "</style>\n",
       "<table border=\"1\" class=\"dataframe\">\n",
       "  <thead>\n",
       "    <tr style=\"text-align: right;\">\n",
       "      <th></th>\n",
       "      <th>Person_ID</th>\n",
       "      <th>Total_OutOfPocket_Med_Exp</th>\n",
       "      <th>Total_OutOfPocket_Med_Exp_2</th>\n",
       "      <th>Medicare_Premium</th>\n",
       "      <th>Ins_Premium</th>\n",
       "      <th>Ins_Premium_2</th>\n",
       "      <th>Non_Premium_OutOfPocket</th>\n",
       "      <th>OverTheCounter_Exp</th>\n",
       "      <th>Retirement_Ann</th>\n",
       "      <th>Retirement_Dist</th>\n",
       "      <th>Earnings_Net</th>\n",
       "      <th>SE_FARM_2nd</th>\n",
       "      <th>SE_FARM_Tot</th>\n",
       "      <th>SE_Tot</th>\n",
       "      <th>SE_2nd</th>\n",
       "      <th>Wages_Tot</th>\n",
       "      <th>Wages_Other</th>\n",
       "      <th>Tot_Per_Earn</th>\n",
       "      <th>Total_Per_Inc</th>\n",
       "    </tr>\n",
       "  </thead>\n",
       "  <tbody>\n",
       "    <tr>\n",
       "      <th>0</th>\n",
       "      <td>2.022090e+21</td>\n",
       "      <td>3840</td>\n",
       "      <td>3840</td>\n",
       "      <td>0</td>\n",
       "      <td>3840</td>\n",
       "      <td>3840</td>\n",
       "      <td>0</td>\n",
       "      <td>0</td>\n",
       "      <td>0</td>\n",
       "      <td>0</td>\n",
       "      <td>44200</td>\n",
       "      <td>0</td>\n",
       "      <td>0</td>\n",
       "      <td>0</td>\n",
       "      <td>0</td>\n",
       "      <td>44200</td>\n",
       "      <td>0</td>\n",
       "      <td>44200</td>\n",
       "      <td>44220</td>\n",
       "    </tr>\n",
       "    <tr>\n",
       "      <th>1</th>\n",
       "      <td>2.100060e+21</td>\n",
       "      <td>568</td>\n",
       "      <td>568</td>\n",
       "      <td>0</td>\n",
       "      <td>200</td>\n",
       "      <td>200</td>\n",
       "      <td>320</td>\n",
       "      <td>48</td>\n",
       "      <td>0</td>\n",
       "      <td>0</td>\n",
       "      <td>30000</td>\n",
       "      <td>2500</td>\n",
       "      <td>2500</td>\n",
       "      <td>30100</td>\n",
       "      <td>100</td>\n",
       "      <td>0</td>\n",
       "      <td>0</td>\n",
       "      <td>32600</td>\n",
       "      <td>32702</td>\n",
       "    </tr>\n",
       "    <tr>\n",
       "      <th>2</th>\n",
       "      <td>2.100060e+21</td>\n",
       "      <td>1300</td>\n",
       "      <td>1300</td>\n",
       "      <td>0</td>\n",
       "      <td>1200</td>\n",
       "      <td>1200</td>\n",
       "      <td>0</td>\n",
       "      <td>100</td>\n",
       "      <td>0</td>\n",
       "      <td>0</td>\n",
       "      <td>48000</td>\n",
       "      <td>0</td>\n",
       "      <td>0</td>\n",
       "      <td>0</td>\n",
       "      <td>0</td>\n",
       "      <td>48000</td>\n",
       "      <td>0</td>\n",
       "      <td>48000</td>\n",
       "      <td>50050</td>\n",
       "    </tr>\n",
       "    <tr>\n",
       "      <th>3</th>\n",
       "      <td>1.410320e+21</td>\n",
       "      <td>100</td>\n",
       "      <td>100</td>\n",
       "      <td>0</td>\n",
       "      <td>0</td>\n",
       "      <td>0</td>\n",
       "      <td>0</td>\n",
       "      <td>100</td>\n",
       "      <td>0</td>\n",
       "      <td>0</td>\n",
       "      <td>40000</td>\n",
       "      <td>0</td>\n",
       "      <td>0</td>\n",
       "      <td>0</td>\n",
       "      <td>0</td>\n",
       "      <td>40000</td>\n",
       "      <td>0</td>\n",
       "      <td>40000</td>\n",
       "      <td>40001</td>\n",
       "    </tr>\n",
       "    <tr>\n",
       "      <th>4</th>\n",
       "      <td>1.410320e+21</td>\n",
       "      <td>1400</td>\n",
       "      <td>1400</td>\n",
       "      <td>0</td>\n",
       "      <td>1000</td>\n",
       "      <td>1000</td>\n",
       "      <td>300</td>\n",
       "      <td>100</td>\n",
       "      <td>0</td>\n",
       "      <td>0</td>\n",
       "      <td>20000</td>\n",
       "      <td>0</td>\n",
       "      <td>0</td>\n",
       "      <td>0</td>\n",
       "      <td>0</td>\n",
       "      <td>20000</td>\n",
       "      <td>0</td>\n",
       "      <td>20000</td>\n",
       "      <td>20000</td>\n",
       "    </tr>\n",
       "  </tbody>\n",
       "</table>\n",
       "</div>"
      ],
      "text/plain": [
       "      Person_ID  Total_OutOfPocket_Med_Exp  Total_OutOfPocket_Med_Exp_2  \\\n",
       "0  2.022090e+21                       3840                         3840   \n",
       "1  2.100060e+21                        568                          568   \n",
       "2  2.100060e+21                       1300                         1300   \n",
       "3  1.410320e+21                        100                          100   \n",
       "4  1.410320e+21                       1400                         1400   \n",
       "\n",
       "   Medicare_Premium  Ins_Premium  Ins_Premium_2  Non_Premium_OutOfPocket  \\\n",
       "0                 0         3840           3840                        0   \n",
       "1                 0          200            200                      320   \n",
       "2                 0         1200           1200                        0   \n",
       "3                 0            0              0                        0   \n",
       "4                 0         1000           1000                      300   \n",
       "\n",
       "   OverTheCounter_Exp  Retirement_Ann  Retirement_Dist  Earnings_Net  \\\n",
       "0                   0               0                0         44200   \n",
       "1                  48               0                0         30000   \n",
       "2                 100               0                0         48000   \n",
       "3                 100               0                0         40000   \n",
       "4                 100               0                0         20000   \n",
       "\n",
       "   SE_FARM_2nd  SE_FARM_Tot  SE_Tot  SE_2nd  Wages_Tot  Wages_Other  \\\n",
       "0            0            0       0       0      44200            0   \n",
       "1         2500         2500   30100     100          0            0   \n",
       "2            0            0       0       0      48000            0   \n",
       "3            0            0       0       0      40000            0   \n",
       "4            0            0       0       0      20000            0   \n",
       "\n",
       "   Tot_Per_Earn  Total_Per_Inc  \n",
       "0         44200          44220  \n",
       "1         32600          32702  \n",
       "2         48000          50050  \n",
       "3         40000          40001  \n",
       "4         20000          20000  "
      ]
     },
     "execution_count": 32,
     "metadata": {},
     "output_type": "execute_result"
    }
   ],
   "source": [
    "person_df.head()"
   ]
  },
  {
   "cell_type": "code",
   "execution_count": 33,
   "id": "eb3e3950",
   "metadata": {
    "scrolled": true
   },
   "outputs": [
    {
     "name": "stdout",
     "output_type": "stream",
     "text": [
      "Person_ID                           0\n",
      "Total_OutOfPocket_Med_Exp       25708\n",
      "Total_OutOfPocket_Med_Exp_2     25030\n",
      "Medicare_Premium               134173\n",
      "Ins_Premium                    103400\n",
      "Ins_Premium_2                  100488\n",
      "Non_Premium_OutOfPocket         58902\n",
      "OverTheCounter_Exp              39078\n",
      "Retirement_Ann                 150982\n",
      "Retirement_Dist                148239\n",
      "Earnings_Net                    77092\n",
      "SE_FARM_2nd                    151958\n",
      "SE_FARM_Tot                    151615\n",
      "SE_Tot                         147008\n",
      "SE_2nd                         151127\n",
      "Wages_Tot                       81305\n",
      "Wages_Other                    145804\n",
      "Tot_Per_Earn                    77088\n",
      "Total_Per_Inc                   46089\n",
      "dtype: int64\n"
     ]
    }
   ],
   "source": [
    "# check for null (0) values in all columns\n",
    "\n",
    "zero_counts = (person_df == 0).sum()\n",
    "\n",
    "print(zero_counts)"
   ]
  },
  {
   "cell_type": "code",
   "execution_count": 34,
   "id": "96bb6569",
   "metadata": {},
   "outputs": [],
   "source": [
    "# Drop all rows which have 0 in every column, except Person_ID\n",
    "per_df = person_df.loc[~(person_df.drop('Person_ID', axis=1) == 0).all(axis=1)]"
   ]
  },
  {
   "cell_type": "code",
   "execution_count": 35,
   "id": "dd9d8389",
   "metadata": {
    "scrolled": true
   },
   "outputs": [
    {
     "data": {
      "text/plain": [
       "(138640, 19)"
      ]
     },
     "execution_count": 35,
     "metadata": {},
     "output_type": "execute_result"
    }
   ],
   "source": [
    "per_df.shape"
   ]
  },
  {
   "cell_type": "code",
   "execution_count": 36,
   "id": "124e81f8",
   "metadata": {
    "scrolled": true
   },
   "outputs": [
    {
     "name": "stdout",
     "output_type": "stream",
     "text": [
      "Person_ID                           0\n",
      "Total_OutOfPocket_Med_Exp       11616\n",
      "Total_OutOfPocket_Med_Exp_2     10938\n",
      "Medicare_Premium               120081\n",
      "Ins_Premium                     89308\n",
      "Ins_Premium_2                   86396\n",
      "Non_Premium_OutOfPocket         44810\n",
      "OverTheCounter_Exp              24986\n",
      "Retirement_Ann                 136890\n",
      "Retirement_Dist                134147\n",
      "Earnings_Net                    63000\n",
      "SE_FARM_2nd                    137866\n",
      "SE_FARM_Tot                    137523\n",
      "SE_Tot                         132916\n",
      "SE_2nd                         137035\n",
      "Wages_Tot                       67213\n",
      "Wages_Other                    131712\n",
      "Tot_Per_Earn                    62996\n",
      "Total_Per_Inc                   31997\n",
      "dtype: int64\n"
     ]
    }
   ],
   "source": [
    "# check for null (0) values in all columns of new dataframe\n",
    "\n",
    "zero_counts = (per_df == 0).sum()\n",
    "\n",
    "print(zero_counts)"
   ]
  },
  {
   "cell_type": "markdown",
   "id": "51d25c33",
   "metadata": {},
   "source": [
    "Explore the differences between 'Total_OutOfPocket_Med_Exp' and 'Total_OutOfPocket_Med_Exp_2' to assess combining them into one column for Total OutOfPocket Med expenses"
   ]
  },
  {
   "cell_type": "code",
   "execution_count": 37,
   "id": "f0841015",
   "metadata": {
    "scrolled": true
   },
   "outputs": [
    {
     "name": "stdout",
     "output_type": "stream",
     "text": [
      "Number of rows with values > 0 in both columns: 127024\n",
      "Number of rows with same values > 0 in both columns: 124337\n",
      "Number of rows with different values > 0 in both columns: 2687\n",
      "Number of rows with a 0 value in both columns: 10938\n"
     ]
    }
   ],
   "source": [
    "# Count the number of rows with values > 0 in both columns\n",
    "both_columns_count = ((per_df['Total_OutOfPocket_Med_Exp'] > 0) & (per_df['Total_OutOfPocket_Med_Exp_2'] > 0)).sum()\n",
    "\n",
    "# Count the number of rows with the same value in both columns\n",
    "same_values_count = ((per_df['Total_OutOfPocket_Med_Exp'] == per_df['Total_OutOfPocket_Med_Exp_2']) & (per_df['Total_OutOfPocket_Med_Exp'] > 0) & (per_df['Total_OutOfPocket_Med_Exp_2'] > 0)).sum()\n",
    "\n",
    "# Count the number of rows with different values in both columns\n",
    "different_values_count = ((per_df['Total_OutOfPocket_Med_Exp'] != per_df['Total_OutOfPocket_Med_Exp_2']) & (per_df['Total_OutOfPocket_Med_Exp'] > 0) & (per_df['Total_OutOfPocket_Med_Exp_2'] > 0)).sum()\n",
    "\n",
    "# Count the number of rows with a 0 value in both columns\n",
    "both_zero_count = ((per_df['Total_OutOfPocket_Med_Exp'] == 0) & (per_df['Total_OutOfPocket_Med_Exp_2'] == 0)).sum()\n",
    "\n",
    "# Print the results\n",
    "print(\"Number of rows with values > 0 in both columns:\", both_columns_count)\n",
    "print(\"Number of rows with same values > 0 in both columns:\", same_values_count)\n",
    "print(\"Number of rows with different values > 0 in both columns:\", different_values_count)\n",
    "print(\"Number of rows with a 0 value in both columns:\", both_zero_count)"
   ]
  },
  {
   "cell_type": "markdown",
   "id": "19c00533",
   "metadata": {},
   "source": [
    "### Difference between 'Total_OutOfPocket_Med_Exp' and 'Total_OutOfPocket_Med_Exp_2'\n",
    "**Total_OutOfPocket_Med_Exp** is a combination of the following out-of-pocket medical expenses:\n",
    "- Comprehensive and noncomprehensive health insurance premiums\n",
    "- Over-the-counter health related spending\n",
    "- Non-premium medical care <br>\n",
    "\n",
    "**Total_OutOfPocket_Med_Exp_2** is the same except for the first cost:\n",
    "- Comprehensive and noncomprehensive health insurance premiums – **alternative**\n",
    "- Over-the-counter health related spending\n",
    "- Non-premium medical care\n",
    "\n",
    "\n",
    "It will be necessary to take a view on how to handle these differences. They will be left included for now as it is not known if an amount in one column is in addition to or a duplicate of the amount in the second column"
   ]
  },
  {
   "cell_type": "markdown",
   "id": "06fee00f",
   "metadata": {},
   "source": [
    "For the purpose of this analysis, only persons with a recorded Income (earnings, other sources of income) will be included"
   ]
  },
  {
   "cell_type": "code",
   "execution_count": 38,
   "id": "b394fac2",
   "metadata": {},
   "outputs": [],
   "source": [
    "# Drop rows where 'Total_Per_Inc' = 0\n",
    "p_df = per_df.drop(per_df[per_df['Total_Per_Inc'] == 0].index)"
   ]
  },
  {
   "cell_type": "code",
   "execution_count": 39,
   "id": "6c9d4023",
   "metadata": {},
   "outputs": [
    {
     "data": {
      "text/plain": [
       "(106643, 19)"
      ]
     },
     "execution_count": 39,
     "metadata": {},
     "output_type": "execute_result"
    }
   ],
   "source": [
    "p_df.shape"
   ]
  },
  {
   "cell_type": "markdown",
   "id": "813c0f29",
   "metadata": {},
   "source": [
    "***Missing values*** "
   ]
  },
  {
   "cell_type": "code",
   "execution_count": 42,
   "id": "8fadf90a",
   "metadata": {
    "scrolled": true
   },
   "outputs": [
    {
     "data": {
      "text/plain": [
       "Person_ID                           0\n",
       "Total_OutOfPocket_Med_Exp       11552\n",
       "Total_OutOfPocket_Med_Exp_2     10931\n",
       "Medicare_Premium                88206\n",
       "Ins_Premium                     58874\n",
       "Ins_Premium_2                   56099\n",
       "Non_Premium_OutOfPocket         33442\n",
       "OverTheCounter_Exp              21368\n",
       "Retirement_Ann                 104893\n",
       "Retirement_Dist                102150\n",
       "Earnings_Net                    31003\n",
       "SE_FARM_2nd                    105869\n",
       "SE_FARM_Tot                    105526\n",
       "SE_Tot                         100919\n",
       "SE_2nd                         105038\n",
       "Wages_Tot                       35216\n",
       "Wages_Other                     99715\n",
       "Tot_Per_Earn                    30999\n",
       "Total_Per_Inc                       0\n",
       "dtype: int64"
      ]
     },
     "execution_count": 42,
     "metadata": {},
     "output_type": "execute_result"
    }
   ],
   "source": [
    "# check for null (0) values in all columns\n",
    "\n",
    "(p_df == 0).sum()"
   ]
  },
  {
   "cell_type": "markdown",
   "id": "3520bf8c",
   "metadata": {},
   "source": [
    "**Approximately 10% of persons in the data set have 0 total out-of-pocket medical expenses recorded.**\n",
    "It is unknown if all or any of these are records of zero expenses or if they are unknown (respondent didn't answer the question)\n",
    "- they will be left in for now but will need further investigation "
   ]
  },
  {
   "cell_type": "markdown",
   "id": "b23b4e56",
   "metadata": {},
   "source": [
    "***Duplicates check***"
   ]
  },
  {
   "cell_type": "code",
   "execution_count": 50,
   "id": "5cece293",
   "metadata": {},
   "outputs": [],
   "source": [
    "dups = p_df.duplicated()"
   ]
  },
  {
   "cell_type": "code",
   "execution_count": 49,
   "id": "5d320671",
   "metadata": {},
   "outputs": [
    {
     "data": {
      "text/plain": [
       "(106643,)"
      ]
     },
     "execution_count": 49,
     "metadata": {},
     "output_type": "execute_result"
    }
   ],
   "source": [
    "dups.shape"
   ]
  },
  {
   "cell_type": "markdown",
   "id": "da2320d1",
   "metadata": {},
   "source": [
    "**No duplicates!**"
   ]
  },
  {
   "cell_type": "markdown",
   "id": "850ef926",
   "metadata": {},
   "source": [
    "***Extreme values checks***"
   ]
  },
  {
   "cell_type": "code",
   "execution_count": 56,
   "id": "f16b62eb",
   "metadata": {
    "scrolled": true
   },
   "outputs": [
    {
     "name": "stderr",
     "output_type": "stream",
     "text": [
      "/Users/peterreadman/opt/anaconda3/lib/python3.9/site-packages/seaborn/distributions.py:2619: FutureWarning: `distplot` is a deprecated function and will be removed in a future version. Please adapt your code to use either `displot` (a figure-level function with similar flexibility) or `histplot` (an axes-level function for histograms).\n",
      "  warnings.warn(msg, FutureWarning)\n"
     ]
    },
    {
     "data": {
      "text/plain": [
       "<AxesSubplot:xlabel='Total_OutOfPocket_Med_Exp', ylabel='Density'>"
      ]
     },
     "execution_count": 56,
     "metadata": {},
     "output_type": "execute_result"
    },
    {
     "data": {
      "image/png": "[encoded data removed]",
      "text/plain": [
       "<Figure size 640x480 with 1 Axes>"
      ]
     },
     "metadata": {},
     "output_type": "display_data"
    }
   ],
   "source": [
    "# plot distribution of total out of pocket costs\n",
    "\n",
    "sns.distplot(p_df['Total_OutOfPocket_Med_Exp'], bins=25)\n"
   ]
  },
  {
   "cell_type": "markdown",
   "id": "22fbe4ad",
   "metadata": {},
   "source": [
    "There are a few extremely high out-of-pocket expenses. These will be left in the analysis for now as there is no reason to doubt their authenticity."
   ]
  },
  {
   "cell_type": "code",
   "execution_count": 57,
   "id": "81a36da4",
   "metadata": {},
   "outputs": [
    {
     "data": {
      "text/plain": [
       "2351.8795982858696"
      ]
     },
     "execution_count": 57,
     "metadata": {},
     "output_type": "execute_result"
    }
   ],
   "source": [
    "# Check the mean out-of-pocket-expenses\n",
    "p_df['Total_OutOfPocket_Med_Exp'].mean()"
   ]
  },
  {
   "cell_type": "code",
   "execution_count": 58,
   "id": "e7cc36ec",
   "metadata": {},
   "outputs": [
    {
     "data": {
      "text/plain": [
       "860.0"
      ]
     },
     "execution_count": 58,
     "metadata": {},
     "output_type": "execute_result"
    }
   ],
   "source": [
    "# Check the median out-of-pocket-expenses\n",
    "p_df['Total_OutOfPocket_Med_Exp'].median()"
   ]
  },
  {
   "cell_type": "code",
   "execution_count": 59,
   "id": "b8862818",
   "metadata": {},
   "outputs": [
    {
     "data": {
      "text/plain": [
       "240437"
      ]
     },
     "execution_count": 59,
     "metadata": {},
     "output_type": "execute_result"
    }
   ],
   "source": [
    "# Check the max out-of-pocket-expenses\n",
    "p_df['Total_OutOfPocket_Med_Exp'].max()"
   ]
  },
  {
   "cell_type": "markdown",
   "id": "c398a36c",
   "metadata": {},
   "source": [
    "### 3. Data prep for regression analysis "
   ]
  },
  {
   "cell_type": "markdown",
   "id": "6d8404ba",
   "metadata": {},
   "source": [
    "Explore the relationship between individual's total income and total out-of-pocket medical expenditure"
   ]
  },
  {
   "cell_type": "code",
   "execution_count": 61,
   "id": "a4669d9a",
   "metadata": {
    "scrolled": true
   },
   "outputs": [
    {
     "data": {
      "image/png": "[encoded data removed]",
      "text/plain": [
       "<Figure size 640x480 with 1 Axes>"
      ]
     },
     "metadata": {},
     "output_type": "display_data"
    }
   ],
   "source": [
    "# Create a scatterplot to look at how total income and total out-of-pocket expenses plot against each other.\n",
    "\n",
    "p_df.plot(x = 'Total_Per_Inc', y='Total_OutOfPocket_Med_Exp',style='o') # The style option creates a scatterplot; without it, we only have lines.\n",
    "plt.title('Total Individual Income vs Total Out-of-Pocket Med Expenses')  \n",
    "plt.xlabel('Out-of-Pocket Expenses')  \n",
    "plt.ylabel('Income')  \n",
    "plt.show()"
   ]
  },
  {
   "cell_type": "markdown",
   "id": "53d484a4",
   "metadata": {},
   "source": [
    "### Hypothesis\n",
    "**Persons with a higher total income pay less in out-of-pocket medical expenses**\n",
    "<br>\n",
    "This hypothesis is based off the following assumptions\"\n",
    "- health insurance coverage in the US is strongly connected to employment and salary level\n",
    "- persons with higher salaries will likely also have more comprehensive insurance coverage, reducing direct out-of-pocket costs to the individual"
   ]
  },
  {
   "cell_type": "code",
   "execution_count": 63,
   "id": "2ca1a575",
   "metadata": {},
   "outputs": [],
   "source": [
    "# Reshape the variables into NumPy arrays and put them into separate objects.\n",
    "\n",
    "X = p_df['Total_Per_Inc'].values.reshape(-1,1)\n",
    "y = p_df['Total_OutOfPocket_Med_Exp'].values.reshape(-1,1)"
   ]
  },
  {
   "cell_type": "code",
   "execution_count": 66,
   "id": "ae78fb7d",
   "metadata": {},
   "outputs": [],
   "source": [
    "# Split data into a training set and a test set.\n",
    "\n",
    "X_train, X_test, y_train, y_test = train_test_split(X, y, test_size=0.3, random_state=0)"
   ]
  },
  {
   "cell_type": "markdown",
   "id": "ba83a687",
   "metadata": {},
   "source": [
    "### 4. Regression analysis\n"
   ]
  },
  {
   "cell_type": "code",
   "execution_count": 69,
   "id": "f91f7e92",
   "metadata": {},
   "outputs": [],
   "source": [
    "# Create a regression object.\n",
    "\n",
    "regression = LinearRegression()"
   ]
  },
  {
   "cell_type": "code",
   "execution_count": 70,
   "id": "fc408483",
   "metadata": {},
   "outputs": [
    {
     "data": {
      "text/plain": [
       "LinearRegression()"
      ]
     },
     "execution_count": 70,
     "metadata": {},
     "output_type": "execute_result"
    }
   ],
   "source": [
    "# Fit the regression object onto the training set.\n",
    "\n",
    "regression.fit(X_train, y_train)"
   ]
  },
  {
   "cell_type": "code",
   "execution_count": 71,
   "id": "19453290",
   "metadata": {},
   "outputs": [],
   "source": [
    "# Predict the values of y using X\n",
    "\n",
    "y_predicted = regression.predict(X_test)"
   ]
  },
  {
   "cell_type": "code",
   "execution_count": 76,
   "id": "34488396",
   "metadata": {
    "scrolled": true
   },
   "outputs": [
    {
     "data": {
      "image/png": "[encoded data removed]",
      "text/plain": [
       "<Figure size 640x480 with 1 Axes>"
      ]
     },
     "metadata": {},
     "output_type": "display_data"
    }
   ],
   "source": [
    "# Create a plot that shows the regression line from the model on the test set.\n",
    "\n",
    "plot_test = plt\n",
    "plot_test.scatter(X_test, y_test, color='grey', s=15)\n",
    "plot_test.plot(X_test, y_predicted, color='red', linewidth =3)\n",
    "plot_test.title('Annual Income vs Out-of-Pocket Medical Expenses (Test set)')\n",
    "plot_test.xlabel('Annual Income')\n",
    "plot_test.ylabel('Out-of-Pocket Med Expenses')\n",
    "plot_test.show()"
   ]
  },
  {
   "cell_type": "markdown",
   "id": "0a422dff",
   "metadata": {},
   "source": [
    "**Interpretation**\n",
    "The regression line does not appear to fit the data well. The data points look to the eye like there would be a slight slope downwards but instead there is a slight slope upwards. Outliers of extremely high out-of-pocket costs and extremely high income levels are likely having an influence on the regression. "
   ]
  },
  {
   "cell_type": "code",
   "execution_count": 74,
   "id": "9a65e437",
   "metadata": {},
   "outputs": [],
   "source": [
    "# Create objects that contain the model summary statistics.\n",
    "\n",
    "rmse = mean_squared_error(y_test, y_predicted)\n",
    "r2 = r2_score(y_test, y_predicted)"
   ]
  },
  {
   "cell_type": "code",
   "execution_count": 75,
   "id": "0c6d2c6d",
   "metadata": {
    "scrolled": true
   },
   "outputs": [
    {
     "name": "stdout",
     "output_type": "stream",
     "text": [
      "Slope: [[0.01017177]]\n",
      "Mean squared error:  14559439.129261678\n",
      "R2 score:  0.042574136670652685\n"
     ]
    }
   ],
   "source": [
    "# Print the model summary statistics\n",
    "\n",
    "print('Slope:' ,regression.coef_)\n",
    "print('Mean squared error: ', rmse)\n",
    "print('R2 score: ', r2)"
   ]
  },
  {
   "cell_type": "code",
   "execution_count": 77,
   "id": "e300084f",
   "metadata": {
    "scrolled": true
   },
   "outputs": [
    {
     "data": {
      "text/html": [
       "<div>\n",
       "<style scoped>\n",
       "    .dataframe tbody tr th:only-of-type {\n",
       "        vertical-align: middle;\n",
       "    }\n",
       "\n",
       "    .dataframe tbody tr th {\n",
       "        vertical-align: top;\n",
       "    }\n",
       "\n",
       "    .dataframe thead th {\n",
       "        text-align: right;\n",
       "    }\n",
       "</style>\n",
       "<table border=\"1\" class=\"dataframe\">\n",
       "  <thead>\n",
       "    <tr style=\"text-align: right;\">\n",
       "      <th></th>\n",
       "      <th>Actual</th>\n",
       "      <th>Predicted</th>\n",
       "    </tr>\n",
       "  </thead>\n",
       "  <tbody>\n",
       "    <tr>\n",
       "      <th>0</th>\n",
       "      <td>2800</td>\n",
       "      <td>2412.338229</td>\n",
       "    </tr>\n",
       "    <tr>\n",
       "      <th>1</th>\n",
       "      <td>120</td>\n",
       "      <td>1911.836122</td>\n",
       "    </tr>\n",
       "    <tr>\n",
       "      <th>2</th>\n",
       "      <td>1726</td>\n",
       "      <td>2006.840485</td>\n",
       "    </tr>\n",
       "    <tr>\n",
       "      <th>3</th>\n",
       "      <td>2500</td>\n",
       "      <td>2084.064588</td>\n",
       "    </tr>\n",
       "    <tr>\n",
       "      <th>4</th>\n",
       "      <td>1200</td>\n",
       "      <td>1780.630418</td>\n",
       "    </tr>\n",
       "    <tr>\n",
       "      <th>5</th>\n",
       "      <td>3900</td>\n",
       "      <td>2696.191736</td>\n",
       "    </tr>\n",
       "    <tr>\n",
       "      <th>6</th>\n",
       "      <td>100</td>\n",
       "      <td>2192.007447</td>\n",
       "    </tr>\n",
       "    <tr>\n",
       "      <th>7</th>\n",
       "      <td>10500</td>\n",
       "      <td>4857.591852</td>\n",
       "    </tr>\n",
       "    <tr>\n",
       "      <th>8</th>\n",
       "      <td>450</td>\n",
       "      <td>2340.118638</td>\n",
       "    </tr>\n",
       "    <tr>\n",
       "      <th>9</th>\n",
       "      <td>300</td>\n",
       "      <td>2008.874840</td>\n",
       "    </tr>\n",
       "    <tr>\n",
       "      <th>10</th>\n",
       "      <td>240</td>\n",
       "      <td>2075.042225</td>\n",
       "    </tr>\n",
       "    <tr>\n",
       "      <th>11</th>\n",
       "      <td>5000</td>\n",
       "      <td>2116.288766</td>\n",
       "    </tr>\n",
       "    <tr>\n",
       "      <th>12</th>\n",
       "      <td>533</td>\n",
       "      <td>1845.231350</td>\n",
       "    </tr>\n",
       "    <tr>\n",
       "      <th>13</th>\n",
       "      <td>1200</td>\n",
       "      <td>2492.644380</td>\n",
       "    </tr>\n",
       "    <tr>\n",
       "      <th>14</th>\n",
       "      <td>400</td>\n",
       "      <td>3388.269022</td>\n",
       "    </tr>\n",
       "    <tr>\n",
       "      <th>15</th>\n",
       "      <td>220</td>\n",
       "      <td>2492.644380</td>\n",
       "    </tr>\n",
       "    <tr>\n",
       "      <th>16</th>\n",
       "      <td>2700</td>\n",
       "      <td>2187.491180</td>\n",
       "    </tr>\n",
       "    <tr>\n",
       "      <th>17</th>\n",
       "      <td>1000</td>\n",
       "      <td>2156.975860</td>\n",
       "    </tr>\n",
       "    <tr>\n",
       "      <th>18</th>\n",
       "      <td>3148</td>\n",
       "      <td>2515.154514</td>\n",
       "    </tr>\n",
       "    <tr>\n",
       "      <th>19</th>\n",
       "      <td>6600</td>\n",
       "      <td>1831.479113</td>\n",
       "    </tr>\n",
       "    <tr>\n",
       "      <th>20</th>\n",
       "      <td>250</td>\n",
       "      <td>2554.203952</td>\n",
       "    </tr>\n",
       "    <tr>\n",
       "      <th>21</th>\n",
       "      <td>2675</td>\n",
       "      <td>2242.489958</td>\n",
       "    </tr>\n",
       "    <tr>\n",
       "      <th>22</th>\n",
       "      <td>400</td>\n",
       "      <td>2082.782945</td>\n",
       "    </tr>\n",
       "    <tr>\n",
       "      <th>23</th>\n",
       "      <td>5060</td>\n",
       "      <td>2136.632313</td>\n",
       "    </tr>\n",
       "    <tr>\n",
       "      <th>24</th>\n",
       "      <td>975</td>\n",
       "      <td>1984.055713</td>\n",
       "    </tr>\n",
       "    <tr>\n",
       "      <th>25</th>\n",
       "      <td>125</td>\n",
       "      <td>1923.767612</td>\n",
       "    </tr>\n",
       "    <tr>\n",
       "      <th>26</th>\n",
       "      <td>1150</td>\n",
       "      <td>2417.566521</td>\n",
       "    </tr>\n",
       "    <tr>\n",
       "      <th>27</th>\n",
       "      <td>50</td>\n",
       "      <td>1805.032502</td>\n",
       "    </tr>\n",
       "    <tr>\n",
       "      <th>28</th>\n",
       "      <td>4450</td>\n",
       "      <td>2432.681776</td>\n",
       "    </tr>\n",
       "    <tr>\n",
       "      <th>29</th>\n",
       "      <td>4647</td>\n",
       "      <td>2080.575670</td>\n",
       "    </tr>\n",
       "  </tbody>\n",
       "</table>\n",
       "</div>"
      ],
      "text/plain": [
       "    Actual    Predicted\n",
       "0     2800  2412.338229\n",
       "1      120  1911.836122\n",
       "2     1726  2006.840485\n",
       "3     2500  2084.064588\n",
       "4     1200  1780.630418\n",
       "5     3900  2696.191736\n",
       "6      100  2192.007447\n",
       "7    10500  4857.591852\n",
       "8      450  2340.118638\n",
       "9      300  2008.874840\n",
       "10     240  2075.042225\n",
       "11    5000  2116.288766\n",
       "12     533  1845.231350\n",
       "13    1200  2492.644380\n",
       "14     400  3388.269022\n",
       "15     220  2492.644380\n",
       "16    2700  2187.491180\n",
       "17    1000  2156.975860\n",
       "18    3148  2515.154514\n",
       "19    6600  1831.479113\n",
       "20     250  2554.203952\n",
       "21    2675  2242.489958\n",
       "22     400  2082.782945\n",
       "23    5060  2136.632313\n",
       "24     975  1984.055713\n",
       "25     125  1923.767612\n",
       "26    1150  2417.566521\n",
       "27      50  1805.032502\n",
       "28    4450  2432.681776\n",
       "29    4647  2080.575670"
      ]
     },
     "execution_count": 77,
     "metadata": {},
     "output_type": "execute_result"
    }
   ],
   "source": [
    "# Create a dataframe comparing the actual and predicted values of y.\n",
    "\n",
    "data = pd.DataFrame({'Actual': y_test.flatten(), 'Predicted': y_predicted.flatten()})\n",
    "data.head(30)"
   ]
  },
  {
   "cell_type": "markdown",
   "id": "f3a85bbd",
   "metadata": {},
   "source": [
    "**The predicted values are way off the actual!**\n",
    "\n",
    "The model's predicted values show notable disparities when compared to the actual values, indicating a significant deviation between the estimated outcomes and the observed data points."
   ]
  },
  {
   "cell_type": "markdown",
   "id": "d3b52700",
   "metadata": {},
   "source": [
    "## Hypothesis Evaluation\n",
    "**Persons with a higher total income pay less in out-of-pocket medical expenses**\n",
    "\n",
    "- The regression analysis reveals a weak positive relationship between Total Income and Total out-of-pocket medical expenses. The increase in Total Income is associated with a minimal, almost negligible, increase in medical expenses.\n",
    "- The mean squared error highlights the need for further improvement in the model's predictions of medical expenses, as there is still considerable unexplained variability in the data.\n",
    "- With an R2 score of approximately 0.0426, it becomes evident that Total Income explains only a small fraction of the variation in medical expenses. Other factors beyond Total Income are likely to play a more substantial role in determining an individual's out-of-pocket medical expenses.\n",
    "\n",
    "The evaluation of the regression results reveals that there is almost no discernible link between an increase in income and a reduction in out-of-pocket medical expenses. This finding suggests that the ability of individuals to pay for medical costs, as reflected by their income, is largely unrelated to the actual costs incurred, highlighting a lack of association between financial means and medical expenditure in the context of the analyzed dataset.\n",
    "<br>\n",
    "#### Reflections on possible data bias\n",
    "In analyzing the ASEC data set, it is important to consider the potential for selection bias, as the data may only capture information from individuals who participated in the survey, potentially excluding certain demographic groups or individuals with unique characteristics.<br>\n",
    "<br>\n",
    "Additionally, nonresponse bias could arise if there are systematic differences between respondents and non-respondents, leading to a limited representation of the overall population and potential distortions in the conclusions drawn from the data."
   ]
  },
  {
   "cell_type": "markdown",
   "id": "f76bca45",
   "metadata": {},
   "source": [
    "### Compare how the regression fits the training set"
   ]
  },
  {
   "cell_type": "code",
   "execution_count": 78,
   "id": "5f3a4f45",
   "metadata": {},
   "outputs": [],
   "source": [
    "# Predict.\n",
    "\n",
    "y_predicted_train = regression.predict(X_train) # This is predicting X_train!"
   ]
  },
  {
   "cell_type": "code",
   "execution_count": 79,
   "id": "da173bb0",
   "metadata": {},
   "outputs": [],
   "source": [
    "rmse = mean_squared_error(y_train, y_predicted_train)\n",
    "r2 = r2_score(y_train, y_predicted_train)"
   ]
  },
  {
   "cell_type": "code",
   "execution_count": 80,
   "id": "37eef391",
   "metadata": {},
   "outputs": [
    {
     "name": "stdout",
     "output_type": "stream",
     "text": [
      "Slope: [[0.01017177]]\n",
      "Mean squared error:  16608224.774227427\n",
      "R2 score:  0.03934683150359153\n"
     ]
    }
   ],
   "source": [
    "print('Slope:' ,regression.coef_)\n",
    "print('Mean squared error: ', rmse)\n",
    "print('R2 score: ', r2)"
   ]
  },
  {
   "cell_type": "code",
   "execution_count": 81,
   "id": "6a8b3311",
   "metadata": {
    "scrolled": true
   },
   "outputs": [
    {
     "data": {
      "image/png": "[encoded data removed]",
      "text/plain": [
       "<Figure size 640x480 with 1 Axes>"
      ]
     },
     "metadata": {},
     "output_type": "display_data"
    }
   ],
   "source": [
    "# plot the training set results.\n",
    "\n",
    "plot_test = plt\n",
    "plot_test.scatter(X_train, y_train, color='green', s = 15)\n",
    "plot_test.plot(X_train, y_predicted_train, color='red', linewidth =3)\n",
    "plot_test.title('Distance from metro vs Price per unit (Train set)')\n",
    "plot_test.xlabel('Distance from metro')\n",
    "plot_test.ylabel('Price per unit')\n",
    "plot_test.show()"
   ]
  }
 ],
 "metadata": {
  "kernelspec": {
   "display_name": "Python 3 (ipykernel)",
   "language": "python",
   "name": "python3"
  },
  "language_info": {
   "codemirror_mode": {
    "name": "ipython",
    "version": 3
   },
   "file_extension": ".py",
   "mimetype": "text/x-python",
   "name": "python",
   "nbconvert_exporter": "python",
   "pygments_lexer": "ipython3",
   "version": "3.9.13"
  }
 },
 "nbformat": 4,
 "nbformat_minor": 5
}
